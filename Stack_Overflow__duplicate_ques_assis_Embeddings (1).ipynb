{
  "nbformat": 4,
  "nbformat_minor": 0,
  "metadata": {
    "kernelspec": {
      "display_name": "Python 3",
      "language": "python",
      "name": "python3"
    },
    "language_info": {
      "codemirror_mode": {
        "name": "ipython",
        "version": 3
      },
      "file_extension": ".py",
      "mimetype": "text/x-python",
      "name": "python",
      "nbconvert_exporter": "python",
      "pygments_lexer": "ipython3",
      "version": "3.5.2"
    },
    "colab": {
      "name": "Stack Overflow _duplicate_ques_assis_Embeddings.ipynb",
      "provenance": []
    }
  },
  "cells": [
    {
      "cell_type": "markdown",
      "metadata": {
        "id": "vT51sqg13r4w",
        "colab_type": "text"
      },
      "source": [
        "# Find duplicate questions on StackOverflow by their embeddings\n",
        "\n",
        "In this assignment you will learn how to calculate a similarity for pieces of text. Using this approach you will know how to find duplicate questions from [StackOverflow](https://stackoverflow.com)."
      ]
    },
    {
      "cell_type": "markdown",
      "metadata": {
        "id": "sp26hxtN3r4z",
        "colab_type": "text"
      },
      "source": [
        "### Libraries\n",
        "\n",
        "In this task you will you will need the following libraries:\n",
        "- [StarSpace](https://github.com/facebookresearch/StarSpace) — a general-purpose model for efficient learning of entity embeddings from Facebook\n",
        "- [Gensim](https://radimrehurek.com/gensim/) — a tool for solving various NLP-related tasks (topic modeling, text representation, ...)\n",
        "- [Numpy](http://www.numpy.org) — a package for scientific computing.\n",
        "- [scikit-learn](http://scikit-learn.org/stable/index.html) — a tool for data mining and data analysis.\n",
        "- [Nltk](http://www.nltk.org) — a platform to work with human language data."
      ]
    },
    {
      "cell_type": "markdown",
      "metadata": {
        "id": "tVh3qckZ3r40",
        "colab_type": "text"
      },
      "source": [
        "### Data\n",
        "\n",
        "The following cell will download all data required for this assignment into the folder `week3/data`."
      ]
    },
    {
      "cell_type": "code",
      "metadata": {
        "id": "VnnThnkP3r42",
        "colab_type": "code",
        "colab": {},
        "outputId": "57388a29-fab9-4efb-b208-90bf18677dd0"
      },
      "source": [
        "import sys\n",
        "sys.path.append(\"..\")\n",
        "from common.download_utils import download_week3_resources\n",
        "\n",
        "download_week3_resources()"
      ],
      "execution_count": 0,
      "outputs": [
        {
          "output_type": "stream",
          "text": [
            "File data/train.tsv is already downloaded.\n",
            "File data/validation.tsv is already downloaded.\n"
          ],
          "name": "stdout"
        },
        {
          "output_type": "display_data",
          "data": {
            "application/vnd.jupyter.widget-view+json": {
              "model_id": "fd2876daca5c4456a1b813c26feb6953",
              "version_major": 2,
              "version_minor": 0
            },
            "text/html": [
              "<p>Failed to display Jupyter Widget of type <code>HBox</code>.</p>\n",
              "<p>\n",
              "  If you're reading this message in the Jupyter Notebook or JupyterLab Notebook, it may mean\n",
              "  that the widgets JavaScript is still loading. If this message persists, it\n",
              "  likely means that the widgets JavaScript library is either not installed or\n",
              "  not enabled. See the <a href=\"https://ipywidgets.readthedocs.io/en/stable/user_install.html\">Jupyter\n",
              "  Widgets Documentation</a> for setup instructions.\n",
              "</p>\n",
              "<p>\n",
              "  If you're reading this message in another frontend (for example, a static\n",
              "  rendering on GitHub or <a href=\"https://nbviewer.jupyter.org/\">NBViewer</a>),\n",
              "  it may mean that your frontend doesn't currently support widgets.\n",
              "</p>\n"
            ],
            "text/plain": [
              "HBox(children=(IntProgress(value=0, max=46408910), HTML(value='')))"
            ]
          },
          "metadata": {
            "tags": []
          }
        },
        {
          "output_type": "stream",
          "text": [
            "\n"
          ],
          "name": "stdout"
        },
        {
          "output_type": "display_data",
          "data": {
            "application/vnd.jupyter.widget-view+json": {
              "model_id": "b6c038aca0644eca9bdaea7cde4f8d50",
              "version_major": 2,
              "version_minor": 0
            },
            "text/html": [
              "<p>Failed to display Jupyter Widget of type <code>HBox</code>.</p>\n",
              "<p>\n",
              "  If you're reading this message in the Jupyter Notebook or JupyterLab Notebook, it may mean\n",
              "  that the widgets JavaScript is still loading. If this message persists, it\n",
              "  likely means that the widgets JavaScript library is either not installed or\n",
              "  not enabled. See the <a href=\"https://ipywidgets.readthedocs.io/en/stable/user_install.html\">Jupyter\n",
              "  Widgets Documentation</a> for setup instructions.\n",
              "</p>\n",
              "<p>\n",
              "  If you're reading this message in another frontend (for example, a static\n",
              "  rendering on GitHub or <a href=\"https://nbviewer.jupyter.org/\">NBViewer</a>),\n",
              "  it may mean that your frontend doesn't currently support widgets.\n",
              "</p>\n"
            ],
            "text/plain": [
              "HBox(children=(IntProgress(value=0, max=5333), HTML(value='')))"
            ]
          },
          "metadata": {
            "tags": []
          }
        },
        {
          "output_type": "stream",
          "text": [
            "\n"
          ],
          "name": "stdout"
        }
      ]
    },
    {
      "cell_type": "markdown",
      "metadata": {
        "id": "Zh7lvnkF3r47",
        "colab_type": "text"
      },
      "source": [
        "### Grading\n",
        "We will create a grader instace below and use it to collect your answers. Note that these outputs will be stored locally inside grader and will be uploaded to platform only after running submiting function in the last part of this assignment. If you want to make partial submission, you can run that cell any time you want."
      ]
    },
    {
      "cell_type": "code",
      "metadata": {
        "id": "WdkWDGE83r49",
        "colab_type": "code",
        "colab": {}
      },
      "source": [
        "from grader import Grader"
      ],
      "execution_count": 0,
      "outputs": []
    },
    {
      "cell_type": "code",
      "metadata": {
        "id": "o9g4Qwh83r5A",
        "colab_type": "code",
        "colab": {}
      },
      "source": [
        "grader = Grader()"
      ],
      "execution_count": 0,
      "outputs": []
    },
    {
      "cell_type": "markdown",
      "metadata": {
        "id": "s4ozpz_S3r5E",
        "colab_type": "text"
      },
      "source": [
        "## Word embedding\n",
        "\n",
        "To solve the problem, you will use two different models of embeddings:\n",
        "\n",
        " - [Pre-trained word vectors](https://code.google.com/archive/p/word2vec/) from Google which were trained on a part of Google News dataset (about 100 billion words). The model contains 300-dimensional vectors for 3 million words and phrases. You need to download it by following this [link](https://drive.google.com/file/d/0B7XkCwpI5KDYNlNUTTlSS21pQmM/edit?usp=sharing).\n",
        " - Representations using StarSpace on StackOverflow data sample. You will need to train them from scratch."
      ]
    },
    {
      "cell_type": "markdown",
      "metadata": {
        "id": "rv0hpSPJ3r5G",
        "colab_type": "text"
      },
      "source": [
        "It's always easier to start with pre-trained embeddings. Unpack the pre-trained Goggle's vectors and upload them using the function [KeyedVectors.load_word2vec_format](https://radimrehurek.com/gensim/models/keyedvectors.html) from gensim library with the parameter *binary=True*. If the size of the embeddings is larger than the avaliable memory, you could load only a part of the embeddings by defining the parameter *limit* (recommended: 500000)."
      ]
    },
    {
      "cell_type": "code",
      "metadata": {
        "id": "HIuc__OX3r5K",
        "colab_type": "code",
        "colab": {}
      },
      "source": [
        "import gensim\n"
      ],
      "execution_count": 0,
      "outputs": []
    },
    {
      "cell_type": "code",
      "metadata": {
        "id": "Ud28i5sN3r5W",
        "colab_type": "code",
        "colab": {}
      },
      "source": [
        "wv_embeddings = gensim.models.KeyedVectors.load_word2vec_format('GoogleNews-vectors-negative300.bin', binary=True, limit=500000) ######### YOUR CODE HERE #############"
      ],
      "execution_count": 0,
      "outputs": []
    },
    {
      "cell_type": "markdown",
      "metadata": {
        "id": "Tg6D3dKE3r5c",
        "colab_type": "text"
      },
      "source": [
        "### How to work with Google's word2vec embeddings?\n",
        "\n",
        "Once you have loaded the representations, make sure you can access them. First, you can check if the loaded embeddings contain a word:\n",
        "    \n",
        "    'word' in wv_embeddings\n",
        "    \n",
        "Second, to get the corresponding embedding you can use the square brackets:\n",
        "\n",
        "    wv_embeddings['word']\n",
        " \n",
        "### Checking that the embeddings are correct \n",
        " \n",
        "To prevent any errors during the first stage, we can check that the loaded embeddings are correct. You can call the function *check_embeddings*, implemented below, which runs 3 tests:\n",
        "1. Find the most similar word for provided \"positive\" and \"negative\" words.\n",
        "2. Find which word from the given list doesn’t go with the others.\n",
        "3. Find the most similar word for the provided one.\n",
        "\n",
        "In the right case the function will return the string *These embeddings look good*. Othervise, you need to validate the previous steps."
      ]
    },
    {
      "cell_type": "code",
      "metadata": {
        "id": "SweR_Z5Q3r5d",
        "colab_type": "code",
        "colab": {}
      },
      "source": [
        "def check_embeddings(embeddings):\n",
        "    error_text = \"Something wrong with your embeddings ('%s test isn't correct).\"\n",
        "    most_similar = embeddings.most_similar(positive=['woman', 'king'], negative=['man'])\n",
        "    if len(most_similar) < 1 or most_similar[0][0] != 'queen':\n",
        "        return error_text % \"Most similar\"\n",
        "\n",
        "    doesnt_match = embeddings.doesnt_match(['breakfast', 'cereal', 'dinner', 'lunch'])\n",
        "    if doesnt_match != 'cereal':\n",
        "        return error_text % \"Doesn't match\"\n",
        "    \n",
        "    most_similar_to_given = embeddings.most_similar_to_given('music', ['water', 'sound', 'backpack', 'mouse'])\n",
        "    if most_similar_to_given != 'sound':\n",
        "        return error_text % \"Most similar to given\"\n",
        "    \n",
        "    return \"These embeddings look good.\""
      ],
      "execution_count": 0,
      "outputs": []
    },
    {
      "cell_type": "code",
      "metadata": {
        "id": "ywTcfHKI3r5h",
        "colab_type": "code",
        "colab": {},
        "outputId": "90e1846c-d785-458b-8749-d49bf553aa71"
      },
      "source": [
        "print(check_embeddings(wv_embeddings))"
      ],
      "execution_count": 0,
      "outputs": [
        {
          "output_type": "stream",
          "text": [
            "These embeddings look good.\n"
          ],
          "name": "stdout"
        }
      ]
    },
    {
      "cell_type": "markdown",
      "metadata": {
        "id": "vFq7DmzC3r5k",
        "colab_type": "text"
      },
      "source": [
        "## From word to text embeddings\n",
        "\n",
        "**Task 1 (Question2Vec).** Usually, we have word-based embeddings, but for the task we need to create a representation for the whole question. It could be done in different ways. In our case we will use a **mean** of all word vectors in the question. Now you need to implement the function *question_to_vec*, which calculates the question representation described above. This function should work with the input text as is without any preprocessing.\n",
        "\n",
        "Note that there could be words without the corresponding embeddings. In this case, you can just skip these words and don't take them into account during calculating the result. If the question doesn't contain any known word with embedding, the function should return a zero vector."
      ]
    },
    {
      "cell_type": "code",
      "metadata": {
        "id": "wC4xVYyi3r5l",
        "colab_type": "code",
        "colab": {}
      },
      "source": [
        "import numpy as np"
      ],
      "execution_count": 0,
      "outputs": []
    },
    {
      "cell_type": "code",
      "metadata": {
        "id": "rG6HDdwS3r5o",
        "colab_type": "code",
        "colab": {}
      },
      "source": [
        "def question_to_vec(question, embeddings, dim=300):\n",
        "    \"\"\"\n",
        "        question: a string\n",
        "        embeddings: dict where the key is a word and a value is its' embedding\n",
        "        dim: size of the representation\n",
        "\n",
        "        result: vector representation for the question\n",
        "    \"\"\"\n",
        "    ######################################\n",
        "    ######### YOUR CODE HERE #############\n",
        "    ######################################\n",
        "    result = np.zeros(dim)\n",
        "    cnt = 0\n",
        "    words = question.split()\n",
        "    for word in words:\n",
        "        if word in embeddings:\n",
        "            result += np.array(embeddings[word])\n",
        "            cnt += 1\n",
        "    if cnt != 0:\n",
        "        result /= cnt\n",
        "    return result \n",
        "    "
      ],
      "execution_count": 0,
      "outputs": []
    },
    {
      "cell_type": "markdown",
      "metadata": {
        "id": "pl4uYccM3r5r",
        "colab_type": "text"
      },
      "source": [
        "To check the basic correctness of your implementation, run the function *question_to_vec_tests*."
      ]
    },
    {
      "cell_type": "code",
      "metadata": {
        "id": "AtaLOkM-3r5s",
        "colab_type": "code",
        "colab": {}
      },
      "source": [
        "def question_to_vec_tests():\n",
        "    if (np.zeros(300) != question_to_vec('', wv_embeddings)).any():\n",
        "        return \"You need to return zero vector for empty question.\"\n",
        "    if (np.zeros(300) != question_to_vec('thereisnosuchword', wv_embeddings)).any():\n",
        "        return \"You need to return zero vector for the question, which consists only unknown words.\"\n",
        "    if (wv_embeddings['word'] != question_to_vec('word', wv_embeddings)).any():\n",
        "        return \"You need to check the corectness of your function.\"\n",
        "    if ((wv_embeddings['I'] + wv_embeddings['am']) / 2 != question_to_vec('I am', wv_embeddings)).any():\n",
        "        return \"Your function should calculate a mean of word vectors.\"\n",
        "    if (wv_embeddings['word'] != question_to_vec('thereisnosuchword word', wv_embeddings)).any():\n",
        "        return \"You should not consider words which embeddings are unknown.\"\n",
        "    return \"Basic tests are passed.\""
      ],
      "execution_count": 0,
      "outputs": []
    },
    {
      "cell_type": "code",
      "metadata": {
        "id": "vVJwSbUr3r5u",
        "colab_type": "code",
        "colab": {},
        "outputId": "3828b23c-c3f8-46ae-9642-4a5a6991fa91"
      },
      "source": [
        "print(question_to_vec_tests())"
      ],
      "execution_count": 0,
      "outputs": [
        {
          "output_type": "stream",
          "text": [
            "Basic tests are passed.\n"
          ],
          "name": "stdout"
        }
      ]
    },
    {
      "cell_type": "markdown",
      "metadata": {
        "id": "cW0rfbIX3r5y",
        "colab_type": "text"
      },
      "source": [
        "You can submit embeddings for the questions from the file *test_embeddings.tsv* to earn the points. In this task you don't need to transform the text of a question somehow."
      ]
    },
    {
      "cell_type": "code",
      "metadata": {
        "id": "8wZlcyuJ3r5y",
        "colab_type": "code",
        "colab": {},
        "outputId": "d9c0cba2-8395-4d97-85e6-efa93f8dbb29"
      },
      "source": [
        "import nltk\n",
        "nltk.download('stopwords')"
      ],
      "execution_count": 0,
      "outputs": [
        {
          "output_type": "stream",
          "text": [
            "[nltk_data] Downloading package stopwords to /root/nltk_data...\n",
            "[nltk_data]   Package stopwords is already up-to-date!\n"
          ],
          "name": "stdout"
        },
        {
          "output_type": "execute_result",
          "data": {
            "text/plain": [
              "True"
            ]
          },
          "metadata": {
            "tags": []
          },
          "execution_count": 41
        }
      ]
    },
    {
      "cell_type": "code",
      "metadata": {
        "id": "cT_nH5im3r53",
        "colab_type": "code",
        "colab": {}
      },
      "source": [
        "from util import array_to_string"
      ],
      "execution_count": 0,
      "outputs": []
    },
    {
      "cell_type": "code",
      "metadata": {
        "id": "qB9a6YwY3r55",
        "colab_type": "code",
        "colab": {},
        "outputId": "abb63a94-a262-4a7a-8efc-7f3a7d2ac5b2"
      },
      "source": [
        "question2vec_result = []\n",
        "for question in open('data/test_embeddings.tsv'):\n",
        "    question = question.strip()\n",
        "    answer = question_to_vec(question, wv_embeddings)\n",
        "    question2vec_result = np.append(question2vec_result, answer)\n",
        "\n",
        "grader.submit_tag('Question2Vec', array_to_string(question2vec_result))"
      ],
      "execution_count": 0,
      "outputs": [
        {
          "output_type": "stream",
          "text": [
            "Current answer for task Question2Vec is: 0.019293891059\n",
            "-0.0287272135417\n",
            "0.0460561116536\n",
            "0.0852593315972\n",
            "0.0243055555556\n",
            "-0.0729031032986\n",
            "0.0...\n"
          ],
          "name": "stdout"
        }
      ]
    },
    {
      "cell_type": "markdown",
      "metadata": {
        "id": "20IqAZBJ3r58",
        "colab_type": "text"
      },
      "source": [
        "Now we have a method to create a representation of any sentence and we are ready for the first evaluation. So, let's check how well our solution (Google's vectors + *question_to_vec*) will work.\n",
        "\n",
        "## Evaluation of text similarity\n",
        "\n",
        "We can imagine that if we use good embeddings, the cosine similarity between the duplicate sentences should be less than for the random ones. Overall, for each pair of duplicate sentences we can generate *R* random negative examples and find out the position of the correct duplicate.  \n",
        "\n",
        "For example, we have the question *\"Exceptions What really happens\"* and we are sure that another question *\"How does the catch keyword determine the type of exception that was thrown\"* is a duplicate. But our model doesn't know it and tries to find out the best option also among questions like *\"How Can I Make These Links Rotate in PHP\"*, *\"NSLog array description not memory address\"* and *\"PECL_HTTP not recognised php ubuntu\"*. The goal of the model is to rank all these 4 questions (1 *positive* and *R* = 3 *negative*) in the way that the correct one is in the first place.\n",
        "\n",
        "However, it is unnatural to count on that the best candidate will be always in the first place. So let us consider the place of the best candidate in the sorted list of candidates and formulate a metric based on it. We can fix some *K* — a reasonalble number of top-ranked elements and *N* — a number of queries (size of the sample).\n",
        "\n",
        "### Hits@K\n",
        "\n",
        "The first simple metric will be a number of correct hits for some *K*:\n",
        "$$ \\text{Hits@K} = \\frac{1}{N}\\sum_{i=1}^N \\, [dup_i \\in topK(q_i)]$$\n",
        "\n",
        "where $q_i$ is the i-th query, $dup_i$ is its duplicate, $topK(q_i)$ is the top K elements of the ranked sentences provided by our model and the operation $[dup_i \\in topK(q_i)]$ equals 1 if the condition is true and 0 otherwise (more details about this operation could be found [here](https://en.wikipedia.org/wiki/Iverson_bracket)).\n",
        "\n",
        "\n",
        "### DCG@K\n",
        "The second one is a simplified [DCG metric](https://en.wikipedia.org/wiki/Discounted_cumulative_gain):\n",
        "\n",
        "$$ \\text{DCG@K} = \\frac{1}{N} \\sum_{i=1}^N\\frac{1}{\\log_2(1+rank_{dup_i})}\\cdot[rank_{dup_i} \\le K] $$\n",
        "\n",
        "where $rank_{dup_i}$ is a position of the duplicate in the sorted list of the nearest sentences for the query $q_i$. According to this metric, the model gets a higher reward for a higher position of the correct answer. If the answer does not appear in topK at all, the reward is zero. "
      ]
    },
    {
      "cell_type": "markdown",
      "metadata": {
        "id": "V9RDhXc-3r59",
        "colab_type": "text"
      },
      "source": [
        "### Evaluation examples\n",
        "\n",
        "Let's calculate the described metrics for the toy example introduced above. In this case $N$ = 1 and the correct candidate for $q_1$ is *\"How does the catch keyword determine the type of exception that was thrown\"*. Consider the following ranking of the candidates:\n",
        "1. *\"How Can I Make These Links Rotate in PHP\"*\n",
        "2. *\"How does the catch keyword determine the type of exception that was thrown\"*\n",
        "3. *\"NSLog array description not memory address\"*\n",
        "4. *\"PECL_HTTP not recognised php ubuntu\"*\n",
        "\n",
        "Using the ranking above, calculate *Hits@K* metric for *K = 1, 2, 4*: \n",
        " \n",
        "- [K = 1] $\\text{Hits@1} = \\frac{1}{1}\\sum_{i=1}^1 \\, [dup_i \\in top1(q_i)] = [dup_1 \\in top1(q_1)] = 0$ because the correct answer doesn't appear in the *top1* list.\n",
        "- [K = 2] $\\text{Hits@2} = \\frac{1}{1}\\sum_{i=1}^1 \\, [dup_i \\in top2(q_i)] = [dup_1 \\in top2(q_1)] = 1$ because $rank_{dup_1} = 2$.\n",
        "- [K = 4] $\\text{Hits@4} = \\frac{1}{1}\\sum_{i=1}^1 \\, [dup_i \\in top4(q_i)] = [dup_1 \\in top4(q_1)] = 1$\n",
        "\n",
        "Using the ranking above, calculate *DCG@K* metric for *K = 1, 2, 4*:\n",
        "\n",
        "- [K = 1] $\\text{DCG@1} = \\frac{1}{1} \\sum_{i=1}^1\\frac{1}{\\log_2(1+rank_{dup_i})}\\cdot[rank_{dup_i} \\le 1] = \\frac{1}{\\log_2(1+rank_{dup_i})}\\cdot[rank_{dup_i} \\le 1] = 0$ because the correct answer doesn't appear in the top1 list.\n",
        "- [K = 2] $\\text{DCG@2} = \\frac{1}{1} \\sum_{i=1}^1\\frac{1}{\\log_2(1+rank_{dup_i})}\\cdot[rank_{dup_i} \\le 2] = \\frac{1}{\\log_2{3}}$, because $rank_{dup_1} = 2$.\n",
        "- [K = 4] $\\text{DCG@4} = \\frac{1}{1} \\sum_{i=1}^1\\frac{1}{\\log_2(1+rank_{dup_i})}\\cdot[rank_{dup_i} \\le 4] = \\frac{1}{\\log_2{3}}$.\n"
      ]
    },
    {
      "cell_type": "markdown",
      "metadata": {
        "id": "HAAjcj-G3r5-",
        "colab_type": "text"
      },
      "source": [
        "**Tasks 2 and 3 (HitsCount and DCGScore).** Implement the functions *hits_count* and *dcg_score* as described above. Each function has two arguments: *dup_ranks* and *k*. *dup_ranks* is a list which contains *values of ranks* of duplicates. For example, *dup_ranks* is *[2]* for the example provided above."
      ]
    },
    {
      "cell_type": "code",
      "metadata": {
        "id": "lId9U6m-3r5_",
        "colab_type": "code",
        "colab": {}
      },
      "source": [
        "def hits_count(dup_ranks, k):\n",
        "    \"\"\"\n",
        "        dup_ranks: list of duplicates' ranks; one rank per question; \n",
        "                   length is a number of questions which we are looking for duplicates; \n",
        "                   rank is a number from 1 to len(candidates of the question); \n",
        "                   e.g. [2, 3] means that the first duplicate has the rank 2, the second one — 3.\n",
        "        k: number of top-ranked elements (k in Hits@k metric)\n",
        "\n",
        "        result: return Hits@k value for current ranking\n",
        "    \"\"\"\n",
        "    ######################################\n",
        "    ######### YOUR CODE HERE #############\n",
        "    ######################################\n",
        "    \n",
        "    return np.average(np.array(dup_ranks) <= np.array([k]))    "
      ],
      "execution_count": 0,
      "outputs": []
    },
    {
      "cell_type": "markdown",
      "metadata": {
        "id": "uddkDoPJ3r6C",
        "colab_type": "text"
      },
      "source": [
        "Test your code on the tiny examples:"
      ]
    },
    {
      "cell_type": "code",
      "metadata": {
        "id": "OTug7Dz-3r6D",
        "colab_type": "code",
        "colab": {}
      },
      "source": [
        "def test_hits():\n",
        "    # *Evaluation example*\n",
        "    # answers — dup_i\n",
        "    answers = [\"How does the catch keyword determine the type of exception that was thrown\"]\n",
        "    \n",
        "    # candidates_ranking — the ranked sentences provided by our model\n",
        "    candidates_ranking = [[\"How Can I Make These Links Rotate in PHP\", \n",
        "                           \"How does the catch keyword determine the type of exception that was thrown\",\n",
        "                           \"NSLog array description not memory address\",\n",
        "                           \"PECL_HTTP not recognised php ubuntu\"]]\n",
        "    # dup_ranks — position of the dup_i in the list of ranks +1\n",
        "    dup_ranks = [candidates_ranking[i].index(answers[i]) + 1 for i in range(len(answers))]\n",
        "    \n",
        "    # correct_answers — the expected values of the result for each k from 1 to 4\n",
        "    correct_answers = [0, 1, 1, 1]\n",
        "    for k, correct in enumerate(correct_answers, 1):\n",
        "        if not np.isclose(hits_count(dup_ranks, k), correct):\n",
        "            return \"Check the function.\"\n",
        "    \n",
        "    # Other tests\n",
        "    answers = [\"How does the catch keyword determine the type of exception that was thrown\", \n",
        "               \"Convert Google results object (pure js) to Python object\"]\n",
        "    \n",
        "    # The first test: both duplicates on the first position in ranked list\n",
        "    candidates_ranking = [[\"How does the catch keyword determine the type of exception that was thrown\",\n",
        "                           \"How Can I Make These Links Rotate in PHP\"], \n",
        "                          [\"Convert Google results object (pure js) to Python object\",\n",
        "                           \"WPF- How to update the changes in list item of a list\"]]\n",
        "    dup_ranks = [candidates_ranking[i].index(answers[i]) + 1 for i in range(len(answers))]\n",
        "    correct_answers = [1, 1]\n",
        "    for k, correct in enumerate(correct_answers, 1):\n",
        "        if not np.isclose(hits_count(dup_ranks, k), correct):\n",
        "            return \"Check the function (test: both duplicates on the first position in ranked list).\"\n",
        "        \n",
        "    # The second test: one candidate on the first position, another — on the second\n",
        "    candidates_ranking = [[\"How Can I Make These Links Rotate in PHP\", \n",
        "                           \"How does the catch keyword determine the type of exception that was thrown\"], \n",
        "                          [\"Convert Google results object (pure js) to Python object\",\n",
        "                           \"WPF- How to update the changes in list item of a list\"]]\n",
        "    dup_ranks = [candidates_ranking[i].index(answers[i]) + 1 for i in range(len(answers))]\n",
        "    correct_answers = [0.5, 1]\n",
        "    for k, correct in enumerate(correct_answers, 1):\n",
        "        if not np.isclose(hits_count(dup_ranks, k), correct):\n",
        "            return \"Check the function (test: one candidate on the first position, another — on the second).\"\n",
        "\n",
        "    # The third test: both candidates on the second position\n",
        "    candidates_ranking = [[\"How Can I Make These Links Rotate in PHP\", \n",
        "                           \"How does the catch keyword determine the type of exception that was thrown\"], \n",
        "                          [\"WPF- How to update the changes in list item of a list\",\n",
        "                           \"Convert Google results object (pure js) to Python object\"]]\n",
        "    dup_ranks = [candidates_ranking[i].index(answers[i]) + 1 for i in range(len(answers))]\n",
        "    correct_answers = [0, 1]\n",
        "    for k, correct in enumerate(correct_answers, 1):\n",
        "        if not np.isclose(hits_count(dup_ranks, k), correct):\n",
        "            return \"Check the function (test: both candidates on the second position).\"\n",
        "\n",
        "    return \"Basic test are passed.\""
      ],
      "execution_count": 0,
      "outputs": []
    },
    {
      "cell_type": "code",
      "metadata": {
        "id": "3LEF39jQ3r6G",
        "colab_type": "code",
        "colab": {},
        "outputId": "fb89f68e-f62b-4239-cfdc-7c088de1721e"
      },
      "source": [
        "print(test_hits())"
      ],
      "execution_count": 0,
      "outputs": [
        {
          "output_type": "stream",
          "text": [
            "Basic test are passed.\n"
          ],
          "name": "stdout"
        }
      ]
    },
    {
      "cell_type": "code",
      "metadata": {
        "id": "RYG5wr2U3r6M",
        "colab_type": "code",
        "colab": {}
      },
      "source": [
        "def dcg_score(dup_ranks, k):\n",
        "    \"\"\"\n",
        "        dup_ranks: list of duplicates' ranks; one rank per question; \n",
        "                   length is a number of questions which we are looking for duplicates; \n",
        "                   rank is a number from 1 to len(candidates of the question); \n",
        "                   e.g. [2, 3] means that the first duplicate has the rank 2, the second one — 3.\n",
        "        k: number of top-ranked elements (k in DCG@k metric)\n",
        "\n",
        "        result: return DCG@k value for current ranking\n",
        "    \"\"\"\n",
        "    ######################################\n",
        "    ######### YOUR CODE HERE #############\n",
        "    ######################################\n",
        "    return np.average((np.array(dup_ranks) <= np.array([k]))*1./(np.log2(1. + np.array(dup_ranks)))) "
      ],
      "execution_count": 0,
      "outputs": []
    },
    {
      "cell_type": "code",
      "metadata": {
        "id": "vAGOOlpW3r6S",
        "colab_type": "code",
        "colab": {}
      },
      "source": [
        "def test_dcg():\n",
        "    # *Evaluation example*\n",
        "    # answers — dup_i\n",
        "    answers = [\"How does the catch keyword determine the type of exception that was thrown\"]\n",
        "    \n",
        "    # candidates_ranking — the ranked sentences provided by our model\n",
        "    candidates_ranking = [[\"How Can I Make These Links Rotate in PHP\", \n",
        "                           \"How does the catch keyword determine the type of exception that was thrown\",\n",
        "                           \"NSLog array description not memory address\",\n",
        "                           \"PECL_HTTP not recognised php ubuntu\"]]\n",
        "    # dup_ranks — position of the dup_i in the list of ranks +1\n",
        "    dup_ranks = [candidates_ranking[i].index(answers[i]) + 1 for i in range(len(answers))]\n",
        "    \n",
        "    # correct_answers — the expected values of the result for each k from 1 to 4\n",
        "    correct_answers = [0, 1 / (np.log2(3)), 1 / (np.log2(3)), 1 / (np.log2(3))]\n",
        "    for k, correct in enumerate(correct_answers, 1):\n",
        "        if not np.isclose(dcg_score(dup_ranks, k), correct):\n",
        "            return \"Check the function.\"\n",
        "    \n",
        "    # Other tests\n",
        "    answers = [\"How does the catch keyword determine the type of exception that was thrown\", \n",
        "               \"Convert Google results object (pure js) to Python object\"]\n",
        "\n",
        "    # The first test: both duplicates on the first position in ranked list\n",
        "    candidates_ranking = [[\"How does the catch keyword determine the type of exception that was thrown\",\n",
        "                           \"How Can I Make These Links Rotate in PHP\"], \n",
        "                          [\"Convert Google results object (pure js) to Python object\",\n",
        "                           \"WPF- How to update the changes in list item of a list\"]]\n",
        "    dup_ranks = [candidates_ranking[i].index(answers[i]) + 1 for i in range(len(answers))]\n",
        "    correct_answers = [1, 1]\n",
        "    for k, correct in enumerate(correct_answers, 1):\n",
        "        if not np.isclose(dcg_score(dup_ranks, k), correct):\n",
        "            return \"Check the function (test: both duplicates on the first position in ranked list).\"\n",
        "        \n",
        "    # The second test: one candidate on the first position, another — on the second\n",
        "    candidates_ranking = [[\"How Can I Make These Links Rotate in PHP\", \n",
        "                           \"How does the catch keyword determine the type of exception that was thrown\"], \n",
        "                          [\"Convert Google results object (pure js) to Python object\",\n",
        "                           \"WPF- How to update the changes in list item of a list\"]]\n",
        "    dup_ranks = [candidates_ranking[i].index(answers[i]) + 1 for i in range(len(answers))]\n",
        "    correct_answers = [0.5, (1 + (1 / (np.log2(3)))) / 2]\n",
        "    for k, correct in enumerate(correct_answers, 1):\n",
        "        if not np.isclose(dcg_score(dup_ranks, k), correct):\n",
        "            return \"Check the function (test: one candidate on the first position, another — on the second).\"\n",
        "        \n",
        "    # The third test: both candidates on the second position\n",
        "    candidates_ranking = [[\"How Can I Make These Links Rotate in PHP\",\n",
        "                           \"How does the catch keyword determine the type of exception that was thrown\"], \n",
        "                          [\"WPF- How to update the changes in list item of a list\",\n",
        "                           \"Convert Google results object (pure js) to Python object\"]]\n",
        "    dup_ranks = [candidates_ranking[i].index(answers[i]) + 1 for i in range(len(answers))]\n",
        "    correct_answers = [0, 1 / (np.log2(3))]\n",
        "    for k, correct in enumerate(correct_answers, 1):\n",
        "        if not np.isclose(dcg_score(dup_ranks, k), correct):\n",
        "            return \"Check the function (test: both candidates on the second position).\"\n",
        "\n",
        "    return \"Basic test are passed.\""
      ],
      "execution_count": 0,
      "outputs": []
    },
    {
      "cell_type": "code",
      "metadata": {
        "id": "cmRKCrcN3r6U",
        "colab_type": "code",
        "colab": {},
        "outputId": "dd91c5d7-d8c9-4c0b-9ec8-580ce298ce22"
      },
      "source": [
        "print(test_dcg())"
      ],
      "execution_count": 0,
      "outputs": [
        {
          "output_type": "stream",
          "text": [
            "Basic test are passed.\n"
          ],
          "name": "stdout"
        }
      ]
    },
    {
      "cell_type": "markdown",
      "metadata": {
        "id": "j7DPzeAz3r6X",
        "colab_type": "text"
      },
      "source": [
        "Submit results of the functions *hits_count* and *dcg_score* for the following examples to earn the points."
      ]
    },
    {
      "cell_type": "code",
      "metadata": {
        "id": "gYVnNTUd3r6Y",
        "colab_type": "code",
        "colab": {}
      },
      "source": [
        "test_examples = [\n",
        "    [1],\n",
        "    [1, 2],\n",
        "    [2, 1],\n",
        "    [1, 2, 3],\n",
        "    [1, 2, 3, 4, 5, 6, 7, 8, 9, 10],\n",
        "    [9, 5, 4, 2, 8, 10, 7, 6, 1, 3],\n",
        "    [4, 3, 5, 1, 9, 10, 7, 8, 2, 6],\n",
        "    [5, 1, 7, 6, 2, 3, 8, 9, 10, 4],\n",
        "    [6, 3, 1, 4, 7, 2, 9, 8, 10, 5],\n",
        "    [10, 9, 8, 7, 6, 5, 4, 3, 2, 1],\n",
        "]"
      ],
      "execution_count": 0,
      "outputs": []
    },
    {
      "cell_type": "code",
      "metadata": {
        "id": "H_HXR_r43r6b",
        "colab_type": "code",
        "colab": {},
        "outputId": "1c4d1fb1-f9e4-40f4-a929-05e6d8c02695"
      },
      "source": [
        "hits_results = []\n",
        "for example in test_examples:\n",
        "    for k in range(len(example)):\n",
        "        hits_results.append(hits_count(example, k + 1))\n",
        "grader.submit_tag('HitsCount', array_to_string(hits_results))"
      ],
      "execution_count": 0,
      "outputs": [
        {
          "output_type": "stream",
          "text": [
            "Current answer for task HitsCount is: 1.0\n",
            "0.5\n",
            "1.0\n",
            "0.5\n",
            "1.0\n",
            "0.333333333333\n",
            "0.666666666667\n",
            "1.0\n",
            "0.1\n",
            "0.2\n",
            "0.3\n",
            "0.4\n",
            "0.5\n",
            "0.6\n",
            "0.7\n",
            "0.8\n",
            "0.9\n",
            "1.0\n",
            "0.1\n",
            "0....\n"
          ],
          "name": "stdout"
        }
      ]
    },
    {
      "cell_type": "code",
      "metadata": {
        "id": "xN_LYQct3r6e",
        "colab_type": "code",
        "colab": {},
        "outputId": "05f550ea-d0bf-4acc-fb81-8946154471a4"
      },
      "source": [
        "dcg_results = []\n",
        "for example in test_examples:\n",
        "    for k in range(len(example)):\n",
        "        dcg_results.append(dcg_score(example, k + 1))\n",
        "grader.submit_tag('DCGScore', array_to_string(dcg_results))"
      ],
      "execution_count": 0,
      "outputs": [
        {
          "output_type": "stream",
          "text": [
            "Current answer for task DCGScore is: 1.0\n",
            "0.5\n",
            "0.815464876786\n",
            "0.5\n",
            "0.815464876786\n",
            "0.333333333333\n",
            "0.54364325119\n",
            "0.710309917857\n",
            "0.1\n",
            "0.16309297...\n"
          ],
          "name": "stdout"
        }
      ]
    },
    {
      "cell_type": "markdown",
      "metadata": {
        "id": "N9inIrhe3r6g",
        "colab_type": "text"
      },
      "source": [
        "##  First solution: pre-trained embeddings"
      ]
    },
    {
      "cell_type": "markdown",
      "metadata": {
        "id": "UQXxs_1E3r6h",
        "colab_type": "text"
      },
      "source": [
        "We will work with predefined train, validation and test corpora. All the files are tab-separated, but have a different format:\n",
        " - *train* corpus contains similar sentences at the same row.\n",
        " - *validation* corpus contains the following columns: *question*, *similar question*, *negative example 1*, *negative example 2*, ... \n",
        " - *test* corpus contains the following columns: *question*, *example 1*, *example 2*, ...\n",
        "\n",
        "Validation corpus will be used for the intermediate validation of models. The test data will be necessary for submitting the quality of your model in the system."
      ]
    },
    {
      "cell_type": "markdown",
      "metadata": {
        "id": "b-rGJClK3r6h",
        "colab_type": "text"
      },
      "source": [
        "Now you should upload *validation* corpus to evaluate current solution."
      ]
    },
    {
      "cell_type": "code",
      "metadata": {
        "id": "hy-vTrMQ3r6i",
        "colab_type": "code",
        "colab": {}
      },
      "source": [
        "def read_corpus(filename):\n",
        "    data = []\n",
        "    for line in open(filename, encoding='utf-8'):\n",
        "        data.append(line.strip().split('\\t'))\n",
        "    return data"
      ],
      "execution_count": 0,
      "outputs": []
    },
    {
      "cell_type": "code",
      "metadata": {
        "id": "sYobXZ4J3r6k",
        "colab_type": "code",
        "colab": {}
      },
      "source": [
        "validation = read_corpus('data/validation.tsv') ######### YOUR CODE HERE #############"
      ],
      "execution_count": 0,
      "outputs": []
    },
    {
      "cell_type": "code",
      "metadata": {
        "id": "eC8nYz4d3r6o",
        "colab_type": "code",
        "colab": {},
        "outputId": "f5b04ece-ae15-4f04-d1a4-b0dba01bf973"
      },
      "source": [
        "validation[:1]"
      ],
      "execution_count": 0,
      "outputs": [
        {
          "output_type": "execute_result",
          "data": {
            "text/plain": [
              "[['How to print a binary heap tree without recursion?',\n",
              "  'How do you best convert a recursive function to an iterative one?',\n",
              "  'How can i use ng-model with directive in angular js',\n",
              "  'flash: drawing and erasing',\n",
              "  'toggle react component using hide show classname',\n",
              "  'Use a usercontrol from another project to current webpage',\n",
              "  '~ Paths resolved differently after upgrading to ASP.NET 4',\n",
              "  'Materialize datepicker - Rendering when an icon is clicked',\n",
              "  'Creating PyPi package - Could not find a version that satisfies the requirement iso8601',\n",
              "  'How can I analyze a confusion matrix?',\n",
              "  'How do I declare a C array in Swift?',\n",
              "  'Using rand() when flipping a coin and rolling a die',\n",
              "  'Handling a JSON field with a special character in its name in Java',\n",
              "  'React Native select row on ListView when push it',\n",
              "  \"Get 'creation_time' of video using ffmpeg and regex\",\n",
              "  'Does row exist and multiple where',\n",
              "  \"How to specify a classifier in a gradle dependency's dependency?\",\n",
              "  'Using $unwind on multiple documents',\n",
              "  'Visual Studio Code: Missing X509Certificate2UI',\n",
              "  'Developing Cordova plugins for Firefox OS',\n",
              "  'Update multiple rows for 2 columns in MySQL',\n",
              "  'Analyse format of alpha-numeric string',\n",
              "  'Dealing with large TIFF images C++/Magick/libtiff',\n",
              "  'What does Error: [$injector:unpr] Unknown provider: tProvider <- t <- myActiveLinkDirective mean?',\n",
              "  'AngularJS - Apply directive instantly, formating currency',\n",
              "  'Can I change the font color on a portion of a string?',\n",
              "  \"Spring AOP does not intercept methods within Spring's container\",\n",
              "  'How to retrieve json in original nested form in apache solr?',\n",
              "  \"Spatial autocorrelation using Moran's I or other spatial overlap index\",\n",
              "  'how to stop my php page from continuing when field is empty',\n",
              "  'Selecting all CheckBoxes in ListBox not displayed properly',\n",
              "  \"PHP warning: Illegal string offset 'field'\",\n",
              "  'WebBrowser control crashes on Windows 10',\n",
              "  'Error while opening a modal in angular',\n",
              "  'Port 25 works when exe run manually but blocked when run as service',\n",
              "  'Why does 6.00 + (plus) 5.00 = \"5.006.00\"?',\n",
              "  'Count number of processes created using fork in a for loop',\n",
              "  'When should I use UIImagePickerControllerSourceTypePhotoLibrary instead of UIImagePickerControllerSourceTypeSavedPhotosAlbum?',\n",
              "  'Read File in Java, output the first comma delimited String',\n",
              "  'Simple recursive method',\n",
              "  'Ensure SQLite table only has one row',\n",
              "  'Why is there a method iterator() on java.util.Collection',\n",
              "  'Development for Cloudant using local CouchDB',\n",
              "  'Regex to find method calls',\n",
              "  'ASP.NET Menu rendering different from vs2008 to vs2010',\n",
              "  'Maven - Change jUnit Version in Quickstart Archetype',\n",
              "  'Writing sublists in a list of lists to separate text files',\n",
              "  'iPad: problems with table rows in popovercontrol',\n",
              "  'Retrieve multiple results set',\n",
              "  'pagination is not working in codeigniter :(',\n",
              "  'Angular NVD3 Change Colors In Legends Also',\n",
              "  'node.js server not responding while large file upload with express and busboy',\n",
              "  'Send request & Get Response in Windows Phone 8.1 WinRT',\n",
              "  'want to delete only empty folders from directory before last 30 days using batch',\n",
              "  'Creating X amount of threads that execute a task at the same time',\n",
              "  'Android Studio 2.2 update: aligned APK (zipAlign) not generated using the new Gradle Plugin 2.2.0',\n",
              "  'Entity Framework - adding the same entity twice in many-to-many relationships',\n",
              "  'Join two tables, only display unique values and maxium date',\n",
              "  'How to use absolute position relative to parent element',\n",
              "  'Search refinement for WebMatrix site',\n",
              "  'Maven project version as expression, not constant',\n",
              "  'Can I prevent App.g.i.cs to be generated?',\n",
              "  'Troubles converting XSD to Java using JAXB',\n",
              "  'Cannot run a jax rs web service with tomcat',\n",
              "  'make a password protected bash script resist/refuse \"bash -x\" when the password is given',\n",
              "  'Does youtube api play function trigger a view count?',\n",
              "  'Why is this Perl loop over strings then characters so slow?',\n",
              "  'How can I change the size of rgl plots in Shiny RMarkdown?',\n",
              "  'How do I programmatically disconnect clients which are connected to Solace appliance?',\n",
              "  'Rails before_filter (Correct_user OR Admin)',\n",
              "  'How to gitignore everything except hidden subdir?',\n",
              "  'Should I use weakSelf in nested blocks?',\n",
              "  'CSS background color not behaving as expected',\n",
              "  'Android app Listview cannot be scrolled to bottom to search a specific element using appium in java',\n",
              "  'Rails: Why \"has_many ..., :through => ...\" association results in \"NameError: uninitialized constant ...\"',\n",
              "  'How to send data between fragments when swiping tabs in ViewPager',\n",
              "  'Wordpress static pages: how to embed content into templates?',\n",
              "  'Troubles with importing classes from Angular 2 modules with Typescript 1.7',\n",
              "  'i am not able to get the images read in java for exporting it as JAR',\n",
              "  'How do I create a resource dll',\n",
              "  'error: linker command failed: ld: duplicate symbol _main',\n",
              "  'sql to find non-printable characters in a string',\n",
              "  'i want to generate payperiod for each month',\n",
              "  'Interactively enter headline under which to place an entry using capture',\n",
              "  'Querying the DNS service records to find the hostname and TCP/IP',\n",
              "  'Can I use setContentView outside the oncreate method?',\n",
              "  'Consolitate data from multible sheets ,re-arrange the data as per the column name',\n",
              "  \"Why is my 'transparent' overlay view opaque?\",\n",
              "  'how can I run play framework with port=9001 under windows cmd not under play console?',\n",
              "  'Rails 3 - Ajax POSTS from a link click',\n",
              "  'Add html content to mysql die error?',\n",
              "  'Best way to run a Plack PSGI Perl application outside of Apache using FastCGI?',\n",
              "  'How to Call NSUserDefault Value To Another View Controller?',\n",
              "  'Does Qt have a way to get the font that the particular css resolves to?',\n",
              "  'How to update Parent component about the data that child component modified(angular 1.5)',\n",
              "  '2d array, pushing to one array shows up in all arrays?',\n",
              "  'Get NSData from assets-library URL',\n",
              "  'How to specify image size in HTML Doxygen?',\n",
              "  'NSFetchedResultsControllerDelegate in a second view controller (not firing?)',\n",
              "  'Draggable divs getting mixed with another divs',\n",
              "  'creating MLP in python showing error',\n",
              "  'Create SharePoint 2010 ribbon button programmatically w/o feature XML',\n",
              "  'how can I use pyglet write a music player can play a music list',\n",
              "  'How can I efficiently debug loops consisting of a large number of iterations on Eclipse?',\n",
              "  'Passing a model object to a RedirectToAction without polluting the URL?',\n",
              "  \"Automatically receiving mobile phone's SMS to hyperterminal\",\n",
              "  'Output \"System.out.println\" into Emacs Cider\\'s REPL (or other buffer)',\n",
              "  'Scoring regression model using PMML with Augustus in Python',\n",
              "  'Safari View Controller - send data back to app',\n",
              "  'Signalling a bash script running in the background in an infinite loop',\n",
              "  'How do I add in-app purchase to a published app in play store and test it before going into production?',\n",
              "  'FileNotFoundException in Windows 10 Universal App (UAP)',\n",
              "  'How to map one column with other columns in an avro file?',\n",
              "  'Retrieving all the cell data from a jQuery datatable on post',\n",
              "  'In Play! Frame work Can I Make classes In models package Singleton?',\n",
              "  'Binding events with Hammer.js and .on()',\n",
              "  'yii making user auto logged in on signup end (auto authentication after signup)',\n",
              "  'Unreal Engine 4: save rendered frame to memory',\n",
              "  'Building HelloWorld C++ Program in Linux with ncurses',\n",
              "  'Generating Checkbox Lists with MVC3 using a complex viewmodel and a cross table with Linq to SQL',\n",
              "  'CordovaWebView: TIMEOUT ERROR',\n",
              "  'Whats wrong in my xsd schema ? It gives type element is not declared on include of another xsd file',\n",
              "  'Angular and papaParse Integration',\n",
              "  'Setup a graylog2 server with elasticsearch in a vagrant machine',\n",
              "  '(Solved-See my comment)How to make a password form on tumblr?',\n",
              "  'Javascript: Call a method inside another method',\n",
              "  'aws api gateway client-side ssl certificate verification with nginx',\n",
              "  'Kendo UI drop downs posting arrays',\n",
              "  'ServiceStack Identity on field other than PK - Insert fails',\n",
              "  'Redirection when rendering controller in twig SYMFONY 302',\n",
              "  'CSS Sprites Bottom repeating',\n",
              "  'How can I sort a table of Laravel Eloquent objects by a custom attribute?',\n",
              "  'Comparing elements in a generic list',\n",
              "  'Set minDate for Bootstrap DateTimePicker from another',\n",
              "  'What is the difference between :g and :%s commands in vim',\n",
              "  'Java: creating self extracting jar that can extract parts of itself out of the archive?',\n",
              "  'set html text color and size using javascript',\n",
              "  'Queue using Arrays',\n",
              "  'foreach loop when using Xml.XmlElement in remote scriptblock',\n",
              "  'How to print list of categories and click on each category one by one in selenium/appium?',\n",
              "  'Every now and then, ABCpdf runs out of memory',\n",
              "  'In Spring OAuth2, why is my resource still unprotected even though I have marked it in my resource server?',\n",
              "  'how to restart node application automatically on aws elastic-beanstalk',\n",
              "  'Unresolved external symbol LNK2019',\n",
              "  'Celltemplate in angular-ui-grid is not working properly',\n",
              "  'Escaping backslashes in method call stringByReplacingOccurrencesOfString Does not work in Objective C',\n",
              "  'APEX Data Loading - Add a column programatically',\n",
              "  'MySQL / MariaDB shuts down after exactly 1 minute 42 seconds',\n",
              "  'Mouse movement / mouseover and JavaScript evaluation in watir',\n",
              "  'Removing backslashes from a string in Python',\n",
              "  'Array manipulation (accessing specific bytes)',\n",
              "  'Rails: Does Application.css load all css.scss files?',\n",
              "  'LongListSelector cannot change ItemsSource',\n",
              "  'C# DateTime not recognising timezone change (BST)',\n",
              "  'deinit in child view controllers',\n",
              "  'How to send back to custom class which object of that class was clicked',\n",
              "  'delete from array returning self',\n",
              "  'MS Access Properties',\n",
              "  'UIWebView always add a parameter in url issue',\n",
              "  'comparing two spanned strings in edittext in android',\n",
              "  'Add prefix to control id and still have it bind MVC Razor',\n",
              "  'EXC_BAD_ACCESS when setting Integer to anything else than zero',\n",
              "  ':hover CSS is not working?',\n",
              "  'Blowfish last block incomplete in decryption',\n",
              "  \"Reading uploaded image: undefined method `file' for nil:NilClass\",\n",
              "  'How can I run IntelliJ IDEA on a remote desktop',\n",
              "  'How to get the JSONObject server response in Volley',\n",
              "  'Guide in organizing large Django projects',\n",
              "  'how to populate a dropdownlist based on another dropdownlist selected value in mvc 4?',\n",
              "  'Azure ServiceBus Token Expired',\n",
              "  'iBatis to MyBatis migration efforts?',\n",
              "  'Where should I look for the document generated using htp package',\n",
              "  \"Tortoise SVN Error after update: 'The specified path has an unexpected status'\",\n",
              "  'Extract html data after logging into website from android app',\n",
              "  'Add key value to array without triggering an array',\n",
              "  'How to write this math equation into c++',\n",
              "  'Undefined index php mysql error',\n",
              "  'when text changed inputbox automatically updates next 6 text boxes',\n",
              "  'Unable to get email of facebook user',\n",
              "  'iphone: Facebook logout feature is not work in my app',\n",
              "  'how to force my app NOT to use the 3g data proxy setting',\n",
              "  'Unit Testing - What do you do when your code is pretty much just a calculation (GetHashCode for example)?',\n",
              "  \"Status of CheckBox can't be detected\",\n",
              "  'Sort a list with multiple conditions Ruby on Rails',\n",
              "  'How to sharp the text in css3?',\n",
              "  'How to change the class of an object dynamically in C#?',\n",
              "  'Creating an Array with a Default Value,But the default value is changed',\n",
              "  'How to call a delegate\\'s function without getting the \"instance method not found\" warning in ios?',\n",
              "  'Android, background drawable appear black in genymotion but looks fine in intellij',\n",
              "  'Table has no columns using google charts',\n",
              "  'Dropdown list where options populate a second list js/php?',\n",
              "  'difference between <% and <%= ruby',\n",
              "  'How to remove the functionality of changelist filter appearing in django admin?',\n",
              "  'how to unpack stxetx data in python',\n",
              "  'Ansible: playbook calling Role in a directory that is in the roles directory',\n",
              "  'Setting up HTTPS redirects on Heroku Laravel Instance',\n",
              "  \"Input helper valueBinding is deprecated - what's the alternative?\",\n",
              "  'Using MySQL.connector with Twisted Python to execute multiple queries',\n",
              "  'MySQL - 1 large table with 100 columns OR split into 5 tables and JOIN',\n",
              "  \"neo4j load csv when field name has a '.' in it\",\n",
              "  'Mocha + React: navigator is not defined',\n",
              "  'semantic ui grid - display full width of column, after \"computer only\" columns is hidden',\n",
              "  'populating select menu options using javascript',\n",
              "  'Serializing MongoDB find() return into non-anonymous JSON array, using PyMongo',\n",
              "  'Geom tile white space issue when the x variable is spread unevenly accross facet grids',\n",
              "  'Moving files depending on the profile in a WAR',\n",
              "  \"Check if it's the last record in sqldatareader\",\n",
              "  'Assigning to columns in NumPy?',\n",
              "  'Android Facebook ApiException: Invalid Application',\n",
              "  'Django: customizing the message after a successful form save',\n",
              "  'Custom TextBox with built-in Validator: server side validation not firing',\n",
              "  'How to embed mjpeg file on a webpage',\n",
              "  'php delete on jQuery doesnt work',\n",
              "  \"AWK doesn't work in Bash Script\",\n",
              "  'Launch specific app when external accessory attached',\n",
              "  'Three Inputs in a Row - Bootstrap 3',\n",
              "  'How compiler like GCC implement acquire/release semantics for std::mutex',\n",
              "  'Framework search for upcoming project',\n",
              "  'Implementing a Web Service Server in Windows CE 2013',\n",
              "  'Why do I keep getting \"The digital signature of the object did not verify\" for Windows JavaEE installer',\n",
              "  'hide paging numbers in gridview?',\n",
              "  'How to remove sublayers from a view afer a touch',\n",
              "  'CUDA: Can i find out if i have global memory coalescence?',\n",
              "  'How to read a google chrome crash dump with windbg',\n",
              "  'jQuery targeting nested list',\n",
              "  'pass the column value when checkbox is clicked in wijmogrid column',\n",
              "  \"How to normalize your database in hibernate? (Repeating values don't get saved again and again)\",\n",
              "  'how to stop validation on a particular textbox after hiding this textbox using angularjs',\n",
              "  'opencv imshow with waitKey too slow on Mac OS X 10.10.2 (using c++)',\n",
              "  'Setting an Input Box Background',\n",
              "  'IntelliJ IDEA: \"Element ignore is not allowed here\"',\n",
              "  'Slider does not work in the jQuery Tabs',\n",
              "  'Carrierwave getting image width and height and storing it in an hstore field',\n",
              "  'OpenProcess() succeeds, but EnumProcessModules() fails',\n",
              "  'Django + Forms: Dynamic choices for ChoiceField',\n",
              "  'using Url.Content to display the file content with .net mvc',\n",
              "  'PDO cannot able to fetch image from database',\n",
              "  'error in adding overlay in current location',\n",
              "  'Internal section link fails in beamer output of pandoc markdown',\n",
              "  'Adding ROW_NUMBER() to query loses DISTINCT, defeats the purpose of paged results attempt',\n",
              "  'android studio 135.1339820 launches wrong java version on openSuse 12.3',\n",
              "  'My Facebook object is empty',\n",
              "  'Java code reads UTF-8 text incorrectly',\n",
              "  'PHP session.cookie_secure does not actually set the cookie to secure',\n",
              "  'Using webapp2, how can I get the value of a form\\'s \"name\" attribute during a POST request?',\n",
              "  'Finding Uppercase Character then Adding Space',\n",
              "  'Table data pass into stored procedure as param and insert into another table in mysql',\n",
              "  'Inject entry point class in GWT with GIN',\n",
              "  'How to group by week of the year dates or day dates that start on Sundays in oracle 10?',\n",
              "  'What are the options Some and None SML?',\n",
              "  'Reversing a .mp3 programmatically',\n",
              "  'Convert Associative Array in PHP and insert it to database',\n",
              "  'Why is the \"map\" version of ThreeSum so slow?',\n",
              "  'ant keeps recompiling',\n",
              "  'HttpContext.Current.User.Identity.Name returns blank',\n",
              "  'UIWebView Javascript Window to Window Communication',\n",
              "  'Fluent NHibernate Exception: An association from the table X refers to an unmapped class: System.String',\n",
              "  'Are .NET memcache libraries production ready?',\n",
              "  \"DB2 Can't connect to db with new user\",\n",
              "  'Django flatpages backup?',\n",
              "  'Trouble with Creating One-Time Calendar Event from Google Sheet row',\n",
              "  'The colored image turned to have no color and just a grey vector in drawable?',\n",
              "  'how to show pattern in asp-Repeater item template?',\n",
              "  'Fastest scripting language for Java?',\n",
              "  'Tried to reverse engineer my app, but got some weird-looking file tree',\n",
              "  'Startup for bundles placed in the deploy folder of Karaf',\n",
              "  'd3js force layout with hide/unhide on node click misplaces nodes after expanding',\n",
              "  'Unique column definition in SQL',\n",
              "  'Hash of a cell text in Google Spreadsheet',\n",
              "  'How to pin/unpin Microsoft Edge developer tools in Windows 10',\n",
              "  'Which editor can align tables in reStructuredText for Sphinx?',\n",
              "  'How to walk through a directory in c and print all files name and permissions',\n",
              "  'iOS KVC DRY mutation',\n",
              "  \"IBM MobileFirst Platform iFix doesn't update the version displayed in Operations Console\",\n",
              "  'relative layout aligning images about right bottom corner',\n",
              "  'How to retrieve a PDF(document) from the Tridion File System and create a multimedia component out of it',\n",
              "  'HTML sends x y POST data with no inputs - how is this possible?',\n",
              "  'How can I view Azure logfiles when running locally?',\n",
              "  'is there a web service client code generator on iOS?',\n",
              "  'Get smallest type to include data range',\n",
              "  'Get dates as check if it is ending',\n",
              "  'Cordova brightness still returns -1',\n",
              "  'How to detect 3 keyboard buttons in Swing?',\n",
              "  'Python calculations in two groups',\n",
              "  'create array from mysql query php',\n",
              "  'TDD vs Defensive Programming',\n",
              "  'Display logo or image in the Ribbon using VSTO',\n",
              "  'How can I get a meaning of a jsp variable in java code on the same page?',\n",
              "  'Conversion of cloud data into 2d image using OpenCV',\n",
              "  '[python-suds]Bug? One additional element is created when using Factory',\n",
              "  'Using clang to analyze C++ code',\n",
              "  'Login with email and password control not working',\n",
              "  'ansible: use different logging level for terminal and log file',\n",
              "  'Draggable window with pyqt4',\n",
              "  'dynamically adding edittext depending on the elements of json array',\n",
              "  'How to convert ftp.getModificationTime(file) to readable format',\n",
              "  'PHP Login Form using DashDB',\n",
              "  'Building a properties file to the top level of a WAR file, Spring-MVC/Maven',\n",
              "  'Enabling breakpoints in goclipse',\n",
              "  'error while including external JARs in ant script',\n",
              "  'Comparison of web widgets in flash and javascript',\n",
              "  'Why must I free this data? Am I the owner?',\n",
              "  'Optimizing a very huge mysql table (query or mysql)',\n",
              "  'tlbexp.exe outputs different tlb information on 2012 versus 2010',\n",
              "  'How to create a Facebook Like with a post/comment box',\n",
              "  'Codeigniter PDO integration',\n",
              "  'pass string array as parameter to asp.net mvc webapi method',\n",
              "  'Removing space in dataframe python',\n",
              "  'How to set application identity of an application pool using web administration module in powershell?',\n",
              "  'how to handle play database connection exceptions',\n",
              "  'querydsl 3.3.0 - using collection.any() with elementcollections in a query with N boolean arguments generates N \"exists\" sub-queries',\n",
              "  'Gson: Change the way Map-Keys are being serialized',\n",
              "  'Improving gnuplot 3d plots from data files with pm3d',\n",
              "  'Divide problem',\n",
              "  'Yii2: Using Kartik Depdrop Widget?',\n",
              "  'Can anyone post an example of how to enable SSL in Tsung?',\n",
              "  'MPI_Isend and MPI_Irecv seem to be causing a deadlock',\n",
              "  'Virtual Box port forwarding misery with Ruby Sinatra:4567 / Shotgun:9292',\n",
              "  'Enhancing regex to match more URLs',\n",
              "  'JavaScript classlist selector error',\n",
              "  'My IntelliJ IDEA 11.1.5 lost the ability to debug node.js applications after upgrading to windows 8.1',\n",
              "  'Scientific notation android java',\n",
              "  'How to make a JSON array case insensitive for Twitter Typeahead?',\n",
              "  'Membase can someone explain the idea behind their technology',\n",
              "  'Struts 2 + Dojo + Datetimepicker',\n",
              "  'Cannot retrieve data from find query',\n",
              "  'How long are resources used (file descriptor and memory) for Java temporary files (jar_cache####.tmp)?',\n",
              "  'how to pass a variable in WHERE IN clause of oracle sql?',\n",
              "  'How can I transform the coordinates of a Shapefile?',\n",
              "  'Mapping result of aggregate query to hibernate object',\n",
              "  'Drawing Application how to save drawing in android phone memory',\n",
              "  'Error while using npm install -g generator-jhipster',\n",
              "  'Get abs path from the currently edited file in Eclipse',\n",
              "  'Post form data to foreign aspx form',\n",
              "  'Logging in Azure web jobs',\n",
              "  'MTM with (automated) CodedUITest test-cases developed in VS2013 issues',\n",
              "  'How to print contents of an HTML element in MacGap?',\n",
              "  'ASP.NET Control not available in CodeBehind',\n",
              "  'How can I disable the IIViewDeck functionality momentarily?',\n",
              "  'Why would I create a struct with only a `PhantomData<()>` member?',\n",
              "  'Accessing masterpage properties from child pages in ASP.net VB',\n",
              "  'Bash read inside a loop reading a file',\n",
              "  'Random number between 1 and 20 excluding numbers already picked',\n",
              "  'Wordpress Navigation Label in Browser tab',\n",
              "  'Taking control of the soundCard with JAVA',\n",
              "  'STL containers and large amounts of data',\n",
              "  'Colour in Backorder Products dropdown based on stock in WooCommerce',\n",
              "  'Richfaces - <rich:autocomplete> not showing suggestions',\n",
              "  'How to select and enlarge a Masterpane in Zedgraph',\n",
              "  'react-native android publishing keystore',\n",
              "  'What is a good way to find a specific value in an XML document using C#?',\n",
              "  'Can i make my own Singleton Stateless Bean with EJB 3.0?',\n",
              "  'How does Google App Engine precompile Java?',\n",
              "  'Using dispose() method instead of close() method to a form',\n",
              "  'Spring Oauth2 \"Full authentication is required to access this resource\" with valid access token',\n",
              "  'Why is my code only displaying incorrect even if I have the right answer?',\n",
              "  'Forcing function in ODE',\n",
              "  'Get sum of column on last row, good practice?',\n",
              "  'Simple Karma + Typescript configuration - Reference Error: x is not defined',\n",
              "  'Error building Player because scripts have compile errors in the editor',\n",
              "  'Property Testers do not load despite forcePluginActivation. For popup menu enablement',\n",
              "  'Javascript regex to match last word regardless of specials characters',\n",
              "  'Develop multilangual system',\n",
              "  \"angular-mock testing in Karma+Mocha can't find module\",\n",
              "  'How to append an element inside object using a common way',\n",
              "  'Generate random \"dark\" colours only in Java',\n",
              "  'Access element in list using indexes stored in another list',\n",
              "  'How to correctly use setq in elisp?',\n",
              "  \"iOS - Today Extension 'show more' & 'show less' state incorrect. Collapsed says 'show less' - requiring multipule presses to fix\",\n",
              "  'how to get the position of the cursor in an editable div',\n",
              "  'flickering of image in SWT',\n",
              "  'Completely random identifier of a given length',\n",
              "  'Angular 2 Render Flat List from Hierarchal Data',\n",
              "  'Java RMI threads on client-side are executing sequentially or concurrently when calling the same remote object?',\n",
              "  'Variable-size buffer for receiving UDP packets',\n",
              "  'CreateSqlQuery on entity with formula property',\n",
              "  'Datepicker TIMESTAMP divide by 100',\n",
              "  'how to print out the whole table using anonymous block in pl sql?',\n",
              "  'In Sentora i will need to integrate a clamav Module',\n",
              "  'how do i set a value of a multiple <select> tag from the database',\n",
              "  'show decimal value in C#',\n",
              "  'Javascript: how to affect other element when hovering?',\n",
              "  'Creating new popup window when click button',\n",
              "  'How to Depict Either/Or Inheritance in a UML diagram?',\n",
              "  'Ajax post success data: Can you separate results?',\n",
              "  'Document.getElementById() not available for ChromiumWebBrowser in visual studio',\n",
              "  'target of assignment expands to non-language object',\n",
              "  'How do I configure distributed transactions for NServiceBus',\n",
              "  'How to combine an array of png images like layers using C#?',\n",
              "  \"yii2 gii CRUD Generator error - Class 'Message' does not exist or has syntax error\",\n",
              "  'Get values of checkbox to other page',\n",
              "  'Session on subdomains still not working',\n",
              "  'How can I turn off host name resolutios?',\n",
              "  'syntax error, unexpected end-of-input',\n",
              "  'Erlang: \"extending\" an existing module with new functions',\n",
              "  'tcl string replacement',\n",
              "  'how to access directory in plesk (control panel )',\n",
              "  'Minimizing the sum of a special function over a list',\n",
              "  'VB.Net & Access - Set two foreign keys, that refer to the same table/field',\n",
              "  'Memory Monitoring Tool for Erlang Threads',\n",
              "  'Disable Spring Boot Security @Secured at runtime',\n",
              "  'Join two tables on the same date or closest date (before or after)',\n",
              "  'Power Point viewer asp.net mvc',\n",
              "  'Swift: Get an element from a tuple',\n",
              "  'images rotation to the right',\n",
              "  'Can I access the visual voicemail files on the iphone thru the SDK?',\n",
              "  'Proximity alert for locations saved at server',\n",
              "  'Tableviewcell button',\n",
              "  'Angularjs select does not mark matching model as selected',\n",
              "  'How can i use id to do action on an object of an android using Robotium tool?',\n",
              "  'How can i pass a value to constructors of collection of instances at runtime with simple injector?',\n",
              "  'Large binary shifts in 8086 assembly?',\n",
              "  'Directshow, format type change filter',\n",
              "  'How to open model window on option selection?',\n",
              "  'Update value in sqlite iphone sdk',\n",
              "  'Installing ADT plugin in Eclipse for Android development',\n",
              "  'Automating a ContextMenu with Watin',\n",
              "  'how to evaluate the performance of any cryptographic algorithm (say elliptic curve)?',\n",
              "  'Nth-child Selector with Prototype',\n",
              "  'Difference in performance of compiled accelerate code ran from ghci and shell',\n",
              "  'Database design for email messaging system',\n",
              "  'Java SE Development Kit 8u20 Install Options',\n",
              "  'Reading a file in chunks',\n",
              "  'Twitter style Web Application based on LAMP, Symfony2, Backbone : possible?',\n",
              "  'Regexp for C preprocessor command',\n",
              "  'Cmposition, I dont quite get this?',\n",
              "  'CakePHP form submits the \"array\"',\n",
              "  'Store feed forward network in mongodb',\n",
              "  'bash read strings and output as one key and multiple values',\n",
              "  'http client in python fails to recive',\n",
              "  'Dynamic languages - which one should I choose?',\n",
              "  'How to start an IntentService from a WakefulBroadcastReceiver',\n",
              "  'C++: Converting wstring to unsigned char',\n",
              "  'How to make echo interpret backslash escapes and not print a trailing newline?',\n",
              "  'AngularJS.. http.get working, when splitting into its own service module its no longer working',\n",
              "  'How do I determine the number of elements in an array reference?',\n",
              "  '\"TypeError: \\'NoneType\\' object is not iterable\" on what should be a list',\n",
              "  'Replace random image on website',\n",
              "  'Rotation matrix between two camera system',\n",
              "  'Animated border which wraps around',\n",
              "  'cron job not picking up oracle query result',\n",
              "  'Formview and MS-Ajax UpdatePanel',\n",
              "  'How to update data with TreeStore or TreeEditor component?',\n",
              "  'Get kwargs passed to url_for in Flask view',\n",
              "  'how to reload the template when working with enlive without restar',\n",
              "  'Thread-safe get (accessor method)',\n",
              "  'How can I tell if \"inline\" worked?',\n",
              "  'calling some logic before user is logged out using spring security?',\n",
              "  'Java pattern to find two groups of two letters in `ABC`',\n",
              "  'MYSQL distincs entry of two columns even when switched',\n",
              "  'How Antlr creates tokens',\n",
              "  'Play Framework 2.4 - Java - Http header and cached response',\n",
              "  'List of Strings in a Grails domain class',\n",
              "  'Insert into MongoDB via Node.js',\n",
              "  'How to stop or pause Pandora and Spotify',\n",
              "  'Oracle Function: Replicate wm_concat',\n",
              "  'Return user to previous page after login (Rails)',\n",
              "  'Custom Layout Manager using predefined and developer-defined child view(s)',\n",
              "  'In Ruby, how do I specify a file in another directory as an input?',\n",
              "  'Unable to read View Bag value from controller to view',\n",
              "  'Parameters on time stamps in oracle sql developer',\n",
              "  'measuring the time to load a page - Python',\n",
              "  'Set height of child to height of parent',\n",
              "  'How can I find the element that caused another element to fire the focusout event?',\n",
              "  'How to get the latest created table in MySQL?',\n",
              "  'Better way to reference $scope in AngularJS',\n",
              "  'Sharing data between Elastic Beanstalk web and worker tiers',\n",
              "  'iOS certificate pinning with Swift and NSURLSession',\n",
              "  'Sharing UDP Data across apps (background/foreground or Split screen multitasking) in iOS',\n",
              "  'iPhone: Facebook logout feature does not working',\n",
              "  'AutoHotKey. Hotstrings and Auto-replace not working in Visual Studio 2008',\n",
              "  'Issue setting up Android SDK - Failed to Start Emulator',\n",
              "  'Why is the dismissable alert not being dismissed?',\n",
              "  'Error while executing change data capture sql query',\n",
              "  'multiple queries - Route.get() requires callback functions but got a [object Undefined]',\n",
              "  'How to attach custom element to shadow DOM in html web components in a secure way?',\n",
              "  \"flash javascript don't work (Second try)\",\n",
              "  'How do EGit versions map to Git versions',\n",
              "  'How the ftp uploads works in PHP?',\n",
              "  'Sql XML to Delphi',\n",
              "  'Lookup table with the query with arbitrary length without using a for loop in R',\n",
              "  'C# XML deserialization XmlAttribute',\n",
              "  'CSS, JQuery: Animated transform from 3 lines menu to cross',\n",
              "  'Can m2e install an external jar file? Or do I need to install the maven command line tool?',\n",
              "  'Does gSOAP RESTful implementation require the definition of a WSDL',\n",
              "  'Automatically create an appointment in Outlook using message content',\n",
              "  'JSoup error: java.lang.IllegalArgumentException',\n",
              "  'Add Button to CMS_Page_Edit via Observer',\n",
              "  'How to do an XOR of the binary forms of all integer items in a list',\n",
              "  'How to add regularization in Scipy Linear Programming (Non-negative Least-Squares)',\n",
              "  'Highlight backgroung colors of some words in HTML Document in java',\n",
              "  'Is there a way to retrieve process stats using Perl or Python?',\n",
              "  'Excel NamedRange.Find Method with Regex pattern match in C#',\n",
              "  'cmake error when configuring',\n",
              "  'How to set first column to a constant value of an empty np.zeros numPy matrix?',\n",
              "  'Eclipse Plugin - get Launch Configurations Tree List in a Dialog.',\n",
              "  'What are the RESTful best practices on defining a query parameter with an or condition?',\n",
              "  'Extracting text from the input field - using Webdriver',\n",
              "  'One <hr> tag is working but not the other in Firefox. Why is that?',\n",
              "  'ajax request xml from php',\n",
              "  'Embedded Java server using Grizzly: How do you enable http2',\n",
              "  'Finding Minimum Completion Time of Scheduled Tasks with Topological Sort',\n",
              "  'How to set jQuery draggable min/max-left and min/max-right',\n",
              "  'semantic-ui modal size keeps extending to the height of a page',\n",
              "  'Is there any direct git command to push changes to another branch',\n",
              "  'How and is it worth to integrate Java Webapp + drools + Guvnor?',\n",
              "  'How to debug Error Messsage in Odoo',\n",
              "  'calculate differences between two numbers',\n",
              "  'Data constructor in template haskell',\n",
              "  'Tying composer.json to a specific Laravel 5 SHA',\n",
              "  'Django 1.7.1 requires a Default value for field - but no entry is in database. Why?',\n",
              "  'addEntriesFromDictionary: a true copy method?',\n",
              "  'Spring Boot OAuth2 with encrypted JWT access token',\n",
              "  'Wrap text if it is longer than max_characters',\n",
              "  'iptables: Duplicating/Forwarding ports',\n",
              "  'Multiple custom fields stored as meta_keys, how to connect with the post?',\n",
              "  'Android GridView crashes or is very slow on some devices (Samsung Galaxy S4, S3)',\n",
              "  'HTML/CSS: Input element weird indent ie7',\n",
              "  'What exactly does Double mean in java?',\n",
              "  'Most effective ways to extract Android Cursor (sqlite) into an array to be used in AlertDialog.Builder?',\n",
              "  'jenkins can not find android SDK',\n",
              "  'Can I open a new window and change the DOM of the calling window in JavaScript?',\n",
              "  'dynamically Change Itemized overlay draw circle using seek bar progress',\n",
              "  'How do I fix django.db.utils.IntegrityError: duplicate key value violates unique constraint?',\n",
              "  'Inno Setup not creating registry entry in Software/Microsoft/Windows/CurrentVersion/Uninstall',\n",
              "  'build from hadoop source code in centos',\n",
              "  'C# LinqToSql SubmitChanges() does not update, even though PK is set',\n",
              "  'How to read utf16 text file to string in golang?',\n",
              "  'Objective C ePub framework',\n",
              "  'Reducer output to different files based on keys',\n",
              "  \"Is it possible for a Chrome Extension to get a user's full browsing history?\",\n",
              "  'Variable Number of Nested For Loops',\n",
              "  'Ordered http request parameters',\n",
              "  'Testing the Oracle to_date function',\n",
              "  'Getting the error of POST method from another PHP file',\n",
              "  'Multiple selection of worksheets into one workbook copy paste of content into one main sheet',\n",
              "  'Why do I keep getting \"developer inactive\" errors when calling the Beats Music API?',\n",
              "  \"My select command doesn't work\",\n",
              "  'node js read files line by line',\n",
              "  'PHPStorm/Webstorm increase memory to more than 512MB',\n",
              "  'Want to open google.com at specific location and make it specific window size',\n",
              "  'Database not updating new row',\n",
              "  'Spring suite tools start error - spring boot',\n",
              "  'Slider in codenameone',\n",
              "  'Issue with $(this) and toggle() multiple classes',\n",
              "  'How to load file from dir using Racket?',\n",
              "  'Removing quotation mark using javascript does not remove single quotation marks',\n",
              "  'Firebase Android ChildEventListener Triggered onChildRemoved() before onChildAdded() When new data added',\n",
              "  'Python. Error using animation.FuncAnimation',\n",
              "  'How to make inline comments in Org-mode?',\n",
              "  'Find years with distinct digits - CCC 2013',\n",
              "  'Identify customer visits occurring after a given time period in mysql',\n",
              "  'Finding the distinct count from a cassandra column using Tableau',\n",
              "  'Prism : Change the active view',\n",
              "  'Get Color from int',\n",
              "  'Dynamic subversion repos via subdomains (in Apache)',\n",
              "  'How to multithread my for loop in Python',\n",
              "  'How to get recycler view list item count using Espresso',\n",
              "  'How to PIVOT and calculating column average',\n",
              "  'Fastest way to separate the digits of an int into an array in .NET?',\n",
              "  'Escaping special characters in SphinxSE',\n",
              "  'Importing sqlite file into r',\n",
              "  'Sort order of related products not working in Magento 1.6',\n",
              "  \"Display 404 not found template for 'slugs' when publication returns empty cursor - Meteor - iron-router\",\n",
              "  'Is there a way to tell if an object has implemented ToString explicitly in c#',\n",
              "  'VFS: file-max limit 1231582 reached',\n",
              "  'Play 2.2 EssentialAction With Futures',\n",
              "  'AppBarLayout / CollapsingToolbarLayout expands indefinitely',\n",
              "  'how to deselect all Radio Button in Radio ButtonGroup on button click in flash as3?',\n",
              "  'numpy array creating with a sequence',\n",
              "  'Sed: Matching words with any permutation of two characters',\n",
              "  'Make Child element appear outside of parent',\n",
              "  \"MobilePin createuserwizard doesn't work?\",\n",
              "  'Fit Image in canvas using WPF',\n",
              "  'Adding a fontawesome icon with border into form input',\n",
              "  'finding pixel location of Listview item seems to return wrong value',\n",
              "  'sails 0.9.8 not work, when created controller and lift it',\n",
              "  'Larave File not found at path but it does exist',\n",
              "  'RequiredFieldValidator causes validation on Server even if validator is disabled(CausesValidation=\"false\")',\n",
              "  'Retrieving HTML content from a page requiring authentication using PHP',\n",
              "  'How to generate linked-axis in matplotlib',\n",
              "  'Print % sign with string formatting',\n",
              "  'How to calculate the dimensions of the monitor in PyQt4/Windows/Linux?',\n",
              "  'VBA Outlook 2010 retrieving information from Active Directory',\n",
              "  'Modifying bootstrap thumbnails',\n",
              "  \"ASP.Net: What's keeping old AppDomains alive?\",\n",
              "  'A library uses the same package as this project after importing Facebook SDK',\n",
              "  'Unable to run compiled .classes from the command line',\n",
              "  'Is it possible to partially decode and update JSON? (go)',\n",
              "  'How to use Apache-Commons DBCP with EclipseLink JPA and Tomcat 7.x',\n",
              "  'How to do batch geocoding using google-maps-services-java',\n",
              "  'Inserting an img into a text field (html, css)',\n",
              "  'NoClassDefFoundError during Tomcat graceful shutdown',\n",
              "  'Indesign (IDML file) Automation using HTML5 and Javascript',\n",
              "  'Writing to the ObjectOutputStream and getting rubbish back',\n",
              "  'How do I stop md-cards from stretching images to full vertical height?',\n",
              "  'SQL, missing end, but why?',\n",
              "  'SED - Search two pattern in a line and insert few word at the end of the line if pattern match is found',\n",
              "  'How to configure & run multiple websites with respective databases with single Laravel code instance',\n",
              "  'three.js CanvasRenderer - setting initial color for object together with transparency textures',\n",
              "  'IHTMLDocument2 - click button inside iframe',\n",
              "  \"Resource 1 works, 2 doesn't\",\n",
              "  'how to show an image in an image field by a button click event in c# asp.net',\n",
              "  'How to use this for killing array of threads?',\n",
              "  'MVC scaffolding does not support Entity Framework 6 or later',\n",
              "  'Parse error using Remotipart',\n",
              "  'JAVA JAX-WS Deployment (JAVA Eclipse EE IDE)',\n",
              "  'kaminari and order_by',\n",
              "  'multisampling and fragment shader',\n",
              "  'C program- change char order in sentence',\n",
              "  'How to reload an IFrame every x seconds?',\n",
              "  'EF6 table per hierarchy, with unique index on derived property',\n",
              "  'Shell Script to add extension on file and directory',\n",
              "  'Absolute beginners guide to working with audio in C/C++?',\n",
              "  'Extract part of string',\n",
              "  'stopping toast android in other actvity',\n",
              "  'Client-side SSL not working with AWS API Gateway',\n",
              "  'Top Left Menu Bar Is Frozen when Main Window Shows Up',\n",
              "  'Category Axis Label Alignment for Multi Series bar chart in JAsper',\n",
              "  'Invalid Label - jQuery Ajax/Json request',\n",
              "  'Optimizing Haskell Recursive Lists',\n",
              "  'Symfony3: Service not able to get arguments',\n",
              "  'Reverse Geocoding not displaying info window on markers when clicked',\n",
              "  'How to restrict background click in Ionic confirmation popup',\n",
              "  'how to use CSPARQL-ReadyToGoPack-0.9 in a SBT project',\n",
              "  'How to sort UTF-8 lines in Vim?',\n",
              "  'How to handle NotFoundException elegantly in Neo4j 2.0?',\n",
              "  'Download multiple files simultaneously with PHP - Forking, Sockets',\n",
              "  'Submit form on one server, process it and then post results to another domain',\n",
              "  'Flyway Mysql multiline comment directive not parsed',\n",
              "  'Non-Blocking File Reads',\n",
              "  'ORACLE sql dynamic variables in stored procedure',\n",
              "  'nested ngFor with two data classes in angular2',\n",
              "  'Crossplatform webview in Qt5.6',\n",
              "  'Set the default encoding to UTF-8 for all JSPs without using @page directives',\n",
              "  'XSLT creating a table with varying amount of columns',\n",
              "  'how to send email with powershell',\n",
              "  'Asynchronous method using .Result',\n",
              "  'Is JENKINS Extensible Choice Parameter compatible with linux?',\n",
              "  'Starting Speech Recognition with CreateProcess() in C++',\n",
              "  'How do I animate adding subviews?',\n",
              "  'How can I change the default font for a Jekyll website',\n",
              "  'Impossible to compile Fortran code with include statement',\n",
              "  'Lazy loading images in Vue/Laravel',\n",
              "  'Web API read header value in controller constructor',\n",
              "  'Android wear WearableListView ImageView selector',\n",
              "  'Function pack() returns 0',\n",
              "  'Is it possible to have Firebase authentication via Facebook in a Phonegap App?',\n",
              "  'PHP Export MySQL to CSV - Results showing HTML',\n",
              "  'How to detect language preference in Laravel 5',\n",
              "  'VB WebBrowser click button',\n",
              "  'Reports using java collections',\n",
              "  'How to write all files Contain in the subfolders and in the folders in to a .txt file',\n",
              "  'Checking negative values from Google Forms',\n",
              "  'Libgdx reading json array values',\n",
              "  'Custom Buddypress Notification on Post Save',\n",
              "  'UITableView with UITextField - keep the data even after user scrolls',\n",
              "  'Visual Studio 2015 Update 1 automatically checks in files',\n",
              "  'Mobilefirst Failed synchronizing application from the administration service',\n",
              "  'Cannot execute for loop in vue.js',\n",
              "  'how to prevent duplicate item',\n",
              "  'Java Apache CLI OptionBuilder not working as Builder pattern',\n",
              "  \"What's a proper way to turn off genymotion emulator?\",\n",
              "  'Jade select field populating data',\n",
              "  \"Why is ' 2' > '10'?\",\n",
              "  'Mysql dump comments directives and simple comments',\n",
              "  'Cropping library not working on Nexus S',\n",
              "  'Create a segue and attach it between two view controllers through Swift?',\n",
              "  'Function to search recursively for patterns in vim',\n",
              "  'Integrating wordpress and laravel user management',\n",
              "  'Behaviour after takePicture() different on different devices/Android versions',\n",
              "  'Exporting Plone content: how to get the tarball created by quintagroup.transmogrifier.writer',\n",
              "  'Cassandra to Hive using Spark',\n",
              "  'Ruby on Rails :before_filter => :only_when_user_is_logged_in',\n",
              "  'How can I integrate Jacoco reports with SonarQube without using maven?',\n",
              "  'Can I use NSPredicate as key in a NSDictionary',\n",
              "  'Proxy Authentication Failed error',\n",
              "  'Could someone explain how to use the UpdateManager in TideSDK 1.3.1 Beta?',\n",
              "  'Properties - how to avoid code repetition',\n",
              "  'Pause/resume video recording using AVCaptureMovieFileOutput',\n",
              "  'Swift enum recursive associated value',\n",
              "  'How to grep particular string occurring multiple times',\n",
              "  'Hover map area sprite with jquery',\n",
              "  'Spark `LiveListenerBus` Exception is freaking me out',\n",
              "  'how to use pyplot.arrow or patches.Arrow in matplotlib?',\n",
              "  'Apache on Windows and Fiddler',\n",
              "  'how to pass the variable from api gateway to the url of another service running on EC2',\n",
              "  'Open link when doubleclicking on table row with jQuery',\n",
              "  'Wget span host only for images/stylesheets/javascript but not links',\n",
              "  'I am trying to show data using api . but data is not showing in custom listView . list is empty',\n",
              "  \"Graphing sbt's incremental compilation logic\",\n",
              "  'how to get functionality of Long Press gesture in ios ver below 3.2',\n",
              "  'Change priority headings for a task with the api',\n",
              "  'Get values on a row based on two or more rows in Excel',\n",
              "  'Is using Silverlight a hindrance for Startups?',\n",
              "  'spotify session callback get_audio_buffer_stats',\n",
              "  'talend - specify jndi as datasource',\n",
              "  'Long data load time in Matlab',\n",
              "  'how can i change column width in base to content with vb.net and bootstrap?',\n",
              "  'Alternative to Microsoft.Practices.EnterpriseLibrary.Data',\n",
              "  'How to facet.pivot with spring-data-solr',\n",
              "  'Check empty output from fish function',\n",
              "  'pysolr update document with error',\n",
              "  'How to retrieve same column twice with different values of other column in same table',\n",
              "  'Updated: NodeJS - connect-keycloak middleware empty response error',\n",
              "  'Accordion open when page loads',\n",
              "  \"Activity doesn't refresh after associated Broadcast Receiver's onReceive gets called.\",\n",
              "  'How do you detect DOCTYPE (Transitional or Strict) server-side in ASP.NET?',\n",
              "  'Firefox 9.0.1 Broke Internal Wiki Layout',\n",
              "  'onchange function in dropDownList yii2',\n",
              "  'play mp3 without default player',\n",
              "  'Convert SVG Data to SVG File that can be uploaded',\n",
              "  'Folder Picker for MS Word',\n",
              "  \"Can't hide or close form after switching to another form\",\n",
              "  'How to ShellCode in linux with x64 processor.',\n",
              "  'How to set a specific timezone for windows CE By C#',\n",
              "  'Vagrant enters aborted state during apt-get update',\n",
              "  \"attempting to make enter button 'clickable'\",\n",
              "  'ImageMagick Convert not generating correct color',\n",
              "  'Mybatis select with nested objects',\n",
              "  \"My css height auto doesn't work\",\n",
              "  'D3 AngularJs Force Directed Graph',\n",
              "  'I want to add 30 days to mysql date row',\n",
              "  'How I can use FlexyPool with HikariCPFactory?',\n",
              "  'Wix installer: Verify that you have sufficient privileges to start system services',\n",
              "  'r, ts - error in stl, series has less than two periods (erroneous?)',\n",
              "  'typo3 - Adding content to the footer',\n",
              "  'Knockout re render template with new data model on change event of dropdown menu',\n",
              "  '@ManyToMany relation not save',\n",
              "  'Downsampling of fMRI image with FSL',\n",
              "  'How to use Android AutoCompleteTextView on Xamarin.Forms',\n",
              "  'Why fstream::tellg() return value is enlarged by the number of newlines in the input text file, when file is formated for Windows (\\\\r\\\\n)?',\n",
              "  'Determine If Two Points Are Near',\n",
              "  'clicking logo on home page breaks navigation menu on mobile site',\n",
              "  'Use Iframe to embed csv and allow user to search from it',\n",
              "  'Install Chrome extension through windows registry',\n",
              "  'Display message on success does not work',\n",
              "  'jQuery masked input - format date as m/d/yyyy or m/dd/yyyy or mm/dd/yyyy or mm/d/yyyy',\n",
              "  'How to change spring session (redis) cookie name?',\n",
              "  'Any tool to suggest unit reference automatically for Delphi 2010?',\n",
              "  'Why does my method return a null password?',\n",
              "  'SQL Script - manipulate value based on previous non zero value',\n",
              "  'rotate image shows \"Out of memory\" exception',\n",
              "  'count button clicks',\n",
              "  'Joomla Custom Compoment Dev Env : Hot Deployment',\n",
              "  'Nexus 5 not showing on connected devices',\n",
              "  'How work the method TrueForAll? C# LINQ',\n",
              "  'PHP - Simplest Way to Post & Display',\n",
              "  'Update Temp Table with Group By',\n",
              "  'How to use Parse Push with Cordova, Appcelerator, etc',\n",
              "  'AS3 bitmapdata send to server picture is small in upperleft corner',\n",
              "  'How to set the Z order index for adorner in WPF',\n",
              "  'php microseconds',\n",
              "  'Creating a global database connection on an mdi form',\n",
              "  'Uncaught ReferenceError: React is not defined',\n",
              "  'VBA search column for strings and copy row to new worksheet',\n",
              "  'How can I record a test using Espresso without doing a clean install?',\n",
              "  'How can I char array in reverse order?',\n",
              "  'What kind of SCTP support is there on various Windows versions?',\n",
              "  'Saving changes to an EC2 instance without having to register an AMI each time?',\n",
              "  'Auto run Jetty on boot',\n",
              "  'How To Cache jQuery Template In Backbone View via Ajax?',\n",
              "  'Does this C++ static analysis rule make sense as is?',\n",
              "  'Same Ripple drawable(effect) appearing differently on ListView and RecyclerView',\n",
              "  'R ggplot2 assigning colours to a factor',\n",
              "  'Verifying a method was called without using IoC',\n",
              "  \"What is 'seg cs' in bootsect.s\",\n",
              "  'setTimeout keeps firing',\n",
              "  'Formatting the way a string is entered into my database',\n",
              "  'Creating Jenkins Job using python API',\n",
              "  'python create single thread to do one task then quit',\n",
              "  'z order in issue in ConstraintLayout Android',\n",
              "  'Can I derive from a class that can only be created by a \"factory\"?',\n",
              "  'PHP OOP :: passing session key between classes',\n",
              "  'ASP.NET MVC 3, SQL Server',\n",
              "  'Recreating or deleting google services json',\n",
              "  'Probe problem when writing a I2C device driver',\n",
              "  'Jersey produce duplicate log messages',\n",
              "  'Exit / stop Array2D.initBased early',\n",
              "  'how to set array of date to fireDate in local notification at a time',\n",
              "  'alternative to async: false ajax',\n",
              "  'Oracle: how to get percent of total by a query?',\n",
              "  'How to match the recursive pattern `a(?R)b` including another string e.g. \"test{aaabbb}\"? (Regex)',\n",
              "  'How to disable GestureListener?',\n",
              "  'How to specify Code Style settings in a Qt Creator `.pro.shared` file?',\n",
              "  'cal extension template modification with .tmpl',\n",
              "  'Getting started with Groovy/Grails?',\n",
              "  \"Opening a Ruby program's source file in the default editor\",\n",
              "  'How can I pass an array of Guid via Web API?',\n",
              "  'Backbone-Relational find or load?',\n",
              "  \"what's the best way to format an xml string in ruby?\",\n",
              "  'Partial classes in Google Closure?',\n",
              "  'Add a repository in AccountController',\n",
              "  'Wikipedia API Autocomplete with Json',\n",
              "  'Apache Pig: unable to run my own pig.jar and pig-withouthadoop.jar',\n",
              "  'Optimizing list comprehension to find pairs of co-prime numbers',\n",
              "  'kivy access child id',\n",
              "  'Stucture values not staying, values changed to -858993460',\n",
              "  'Set toolbar title',\n",
              "  'How to add a row to a table using swt',\n",
              "  'jQuery ui selectmenu vertical position offset (relatively to buttons in this line)',\n",
              "  'SSIS : Warning: Failed to decrypt an encrypted XML node',\n",
              "  'gps not getting user location',\n",
              "  'Exporting a simple model with texture from Blender to three.js',\n",
              "  'Postman - Required MultipartFile parameter is not present - Spring, Java',\n",
              "  'Prevent akka actor from restarting child actor',\n",
              "  'UITableView not loaded',\n",
              "  'NTFS permission with modify date',\n",
              "  'QTreeView - how to tell if a drag/drop event is a reorder or a move between parents?',\n",
              "  'Prevent XUL notificationBox from closing when button is hit',\n",
              "  'Code not working. Notification that should go off once a day',\n",
              "  'Android Action Bar Button does not show up',\n",
              "  '$.widget is not a function',\n",
              "  'jquery hide not taking parameter',\n",
              "  \"How can i use a one form/table for multiple MVC's?\",\n",
              "  'MSTest: execution order of tests within the same TestClass',\n",
              "  'How to call jQuery function in HTML returned by AJAX',\n",
              "  'OAuth2 security considerations for client_id',\n",
              "  'Google Compute Instance 100% CPU Utilisation',\n",
              "  'Incompatible block pointer type when returning array?',\n",
              "  'Calling a REST api with an encrypted PEM client certificate',\n",
              "  'Select all objects in a list',\n",
              "  'Drag and insert div into another div',\n",
              "  'How to prevent firefox from scrolling to the bottom of the page when a large popup is opened',\n",
              "  'How to handle ((List<string>)Session.Add(\"\")',\n",
              "  'mysql inserting into 2 tables at once that have primary key and foreign key',\n",
              "  \"What's the right way to remove multiple items from a QTableWidget?\",\n",
              "  \"When MSTest fails in TestInitialize, why doesn't TestCleanup get executed?\",\n",
              "  'PHP CodeIgniter application not opening any page except default controller',\n",
              "  'Parsing JSON data without quotes with jQuery',\n",
              "  'Rewrite url in .htaccess',\n",
              "  'I/O error(socket error): [Errno 111] Connection refused',\n",
              "  'Git Error; RPC failed; result=22, HTTP code = 401',\n",
              "  'TFS 2010 - Set the State field to a certain value',\n",
              "  'ActionScript 3.0 How to create ProgressEvent instances in for loop with multiple files loaded from XML',\n",
              "  'how can i extract my query to find average',\n",
              "  'C# Windows Service - Default Arguments on Install',\n",
              "  'Upload large files with node js',\n",
              "  'Changing table headers in cakephp',\n",
              "  'hello world with JMS on Glassfish',\n",
              "  'Countdown timer using DateTime.Parse without defined date',\n",
              "  \"Images in the 'drawable' folder are resized automatically?\",\n",
              "  'Find files with the same size and dellete all duplicates except the one has the shortest name using shell script',\n",
              "  'Writing Rules both in Firebase and in your Code',\n",
              "  'Search for words with specific starts and endings',\n",
              "  'Install Neo4j 3.0+ as a windows service',\n",
              "  'PHP convert 2 digit year to a 4 digit year',\n",
              "  'JSDoc auto-complete documentation in Eclipse is not working for Class.create()',\n",
              "  'Split a infix String to an array of String in java',\n",
              "  'Folder permissions in Azure web sites',\n",
              "  'Only have separators between UITableViewCells',\n",
              "  'Uncaught Syntax error, unrecognized expression: [object Object]',\n",
              "  'Need htaccess redirection',\n",
              "  'How to create this bootstrap carousel of iframes?',\n",
              "  'Doctrine2 - Get entity ID before flush',\n",
              "  'Xquery help sorted parent child relationship',\n",
              "  'How To Load Separate Pages In Android Gridview While Clicking Blocks or Items?',\n",
              "  'kineticjs rect fillText',\n",
              "  'is a query string with a / in it valid?',\n",
              "  'How to convert the BYTEARRAYS to NSString in objective -c',\n",
              "  'why is std::chrono::duration based on seconds',\n",
              "  'WCF REST Client Exception',\n",
              "  'Using UIBinder to create a Widget to go into a Dialog',\n",
              "  'OneDrive for Business :\"invalid_request\",\"error_description\":\"AADSTS90014: The request body must contain the following parameter: \\'grant_type',\n",
              "  'Are the any options for interfacing with the command prompt process from a .NET application other than the standard IO?',\n",
              "  'Adding data in the database using microsoft access and OleDb in C#',\n",
              "  'jQuery Ajax header not being passed',\n",
              "  'AngularJS: Multiple views with routing without losing scope',\n",
              "  'BackboneJS How to merge collections',\n",
              "  'Specflow :Could not load file or assembly TechTalk.SpecFlow, Version=2.2.0.0',\n",
              "  'Max byte calculated by System.Runtime.InteropServices.Marshal.SizeOf()',\n",
              "  'How can my application retrieve custom fields from a DocuSign transaction?',\n",
              "  'add active state to button in a button group',\n",
              "  'How to define clear range for pixel color',\n",
              "  'Roslyn VisualBasic.ScriptEngine doesnt recognize hostObject written on C#',\n",
              "  \"Neither BindingResult nor plain target object for bean name 'categoryOptions' available as request attribute\",\n",
              "  'How to change Wicket behaviour on Page Expired',\n",
              "  'PHPUnit code coverage show 0% coverage',\n",
              "  'How to prove code correctness lemmas with the \"undefined\" constant',\n",
              "  'Visual Studio has insufficient privileges to debug this process. To debug this process, Visual Studio must be run as an administrator',\n",
              "  'WebApi EntitySetController using composite keys',\n",
              "  'How do I set up an OpenGL project using XCode 4.2 in C++?',\n",
              "  'Initialize static NSString at class level',\n",
              "  'Rich Text Editor inside Flux Form',\n",
              "  'Setting $PATH in xampp osx',\n",
              "  'How to extract data from html using PHP',\n",
              "  'How to get Current location using MapModule?',\n",
              "  'Excel VBA Syntax Errors & Compiling Issues',\n",
              "  'How to read Logback configuration file from path outside the war file?',\n",
              "  'jQuery ajax not getting every div elements',\n",
              "  'TCP Socket on JAVA - Any byte >= 128 is received as 65533',\n",
              "  'SqlBulkCopy keeps on throwing connection forcibly closed exception',\n",
              "  'Error sending to the following VALID addresses Jenkins',\n",
              "  'How to determine if a text has balanced delimiters?',\n",
              "  'How to flick through a deck of cards?',\n",
              "  'Selecting in SQLite Database Android',\n",
              "  \"TSQL merge Incorrect syntax near ','\",\n",
              "  'Building Pocketsphinx On Android on Windows',\n",
              "  'Add background image in a div without empty space between div and footer',\n",
              "  'Include github project into wordpress plugin',\n",
              "  'django multivaluefield & multiwidget - compress and/or decompress not working',\n",
              "  'Android : Can i call my onresume() inside onpause().?',\n",
              "  'How to fit picture to absolute positioning modal window?',\n",
              "  'Redirect URL to PHP only if file does not exist with Nginx',\n",
              "  'Laravel 4 Exception: NotFoundHttpException',\n",
              "  'How To Start Using Kostache?',\n",
              "  'Assigned access application exits when Ctrl + Alt + Delete is pressed.',\n",
              "  'Circular dependency error when running migrations in Django 1.7c2',\n",
              "  'JavaFX setOnShown fires before window is visible',\n",
              "  'Flash Develop - Publishing',\n",
              "  'I want to use the variable I declared somewhere else but I cannot (simple sql query)',\n",
              "  'buttons are not displayed',\n",
              "  'Prevent Twitter responsive layout from collapsing when width < 320px',\n",
              "  'Show azure cost analysis data using Azure billing API/SDK',\n",
              "  'find the field names from a search query',\n",
              "  'OAuth 2.0 OpenID Connect Loopback and Keycloak',\n",
              "  'Windows Phone: How to retrieve the same photo from media library between application instances',\n",
              "  'Symfony2: determine if a controller is called from a development environment or from a production environment',\n",
              "  'When UITableView is fully reloaded',\n",
              "  'http.post(url, postData, options) does not set header',\n",
              "  'JSON stringify outputs empty object for not empty object',\n",
              "  'Display.syncExec not working inside Callable',\n",
              "  'XPath to first occurrence of element with text length >= 200 characters',\n",
              "  'Unable to push a docker image to local OpenShift Origin registry',\n",
              "  'SlideDown() using JavaScript not working as intended',\n",
              "  'Threading.Tasks Dispose meaning issue',\n",
              "  'VAL() function in JavaScript',\n",
              "  'Using php to send form to my email..Having an issue with 405 Not Allowed when form is submitted',\n",
              "  'Netty closeFuture().sync().channel(); blocks rest api',\n",
              "  'How to check if a specific button exists in Scrapy?',\n",
              "  'Remove logs from ORMLite Android',\n",
              "  'Language detection API/Library',\n",
              "  'Should I make 1 form for each upvote button or 1 form for all the buttons?',\n",
              "  'Eclipse GAE JDO 3.0',\n",
              "  'django-cms editors and HTML data attribute cleaned up',\n",
              "  'Xcode build error clang failed',\n",
              "  'setTimeout from a web worker',\n",
              "  'C# Populating a listview from a List',\n",
              "  'Javascript not working in django inline formset using urlify.js',\n",
              "  'PHP multi cURL performance worse than sequential file_get_contents',\n",
              "  'Converting PHP Contact Form to SMTP',\n",
              "  'How do I prevent the original method being called when mocking a class with PHPUnit?',\n",
              "  'Ensure footer will stick to bottom of page and flex with content',\n",
              "  'How to share files from any path using a FileProvider?',\n",
              "  'R: How to build sum of arrays third dimension containing NAs and returning a list?',\n",
              "  'Speeding up a strangely slow Rcpp function',\n",
              "  'How to create a service that sends/receives UDP broadcasts on multiple interfaces',\n",
              "  'Can someone tell me how to replace the following javascript code with a loop?',\n",
              "  'UIImageView layer border issue',\n",
              "  'COM object created by CComObject::CreateInstance not destroyed when pointer goes out of scope',\n",
              "  'Run 2 sql query with 1 query for save query result as .csv format',\n",
              "  'AWS Elastic Beanstalk Vs EC2 Container Service (ECS) - Docker',\n",
              "  'Connect to remote MongoDB instance from ASP.NET',\n",
              "  'Copying files with unicode names',\n",
              "  \"ASP.NET Web application doesn't unload AppDomains after deploy\",\n",
              "  'Getting YouTube livestream URL',\n",
              "  \"Can't use ToString() in LINQ to Entities query\",\n",
              "  'list comprehension to create list and for no-data value feed default value',\n",
              "  \"JSX element type 'XXX' does not have any construct or call signatures\",\n",
              "  'Subroutine unexpectedly ends when a Workbook is closed',\n",
              "  'Creating a result set (using a select statement ) within a loop',\n",
              "  'Laravel 4.2 - Environment detection - homestead.yaml vs. start.php',\n",
              "  'Deploy a shell script with Ruby gem and install in bin directory',\n",
              "  'Change a string into an int',\n",
              "  'How do I stop a MySQL decimal field from being rounded?',\n",
              "  \"Respecting argparse's privacy, vs. usability\",\n",
              "  'Very simple Web Service in Python',\n",
              "  'Emoji and UIWebView in iOS 5',\n",
              "  'Getting IOError: [Errno Invalid number of channels] -9998 when using mic with PyAudio on Raspberry Pi',\n",
              "  'Mono on Mac OS X - Parallel HTTP Downloads limited to 2',\n",
              "  'Delete files, directories and buckets in amazon s3 java',\n",
              "  'Android: Saving form data on a swipe rather than from a button',\n",
              "  'No description or item name on PayPal Payment Received email',\n",
              "  'Code igniter with data mapper giving in valid json',\n",
              "  'Where can I find official / canonical documentation for using JavaScript with \"classic\" ASP?',\n",
              "  \"BroadcastReceiver isn't working\",\n",
              "  'Array compare and count which has similar values and which not',\n",
              "  \"How to cancel 'viewWillAppear' after UIImagePickerController is dismissed\",\n",
              "  'In Scala, is it possible to write a script which refers to another script',\n",
              "  \"after reload page IE is not retaining it's scroll position\",\n",
              "  'SpringBoot multiple authentication adapter',\n",
              "  'SMTP Contact Form blank screen on Submit',\n",
              "  'Destroy all sessions but one',\n",
              "  'C# WIndows CE Compact Framework 2.0 Set System Timezone',\n",
              "  'Appropriate representation of a 2D game board in Clojure',\n",
              "  'Ionic emulate ios shows black screen',\n",
              "  'How update APi with AngularJS?',\n",
              "  'Javascript based redirect: will it hurt SEO?',\n",
              "  'What is the difference between these two SOAP requests?',\n",
              "  'Microsoft Access Report - How to cycle through all pages of a report in print view?',\n",
              "  \"What does Actor[akka:\\\\\\\\play\\\\deadLetters].tell() mean in a New Relic's trace of a Play Framework 2.0 web transaction?\",\n",
              "  'JRuby 1.7.0 will not install bundler given plenty of memory',\n",
              "  'solr multiple tokenizers for query',\n",
              "  'Is it possible to pass an EJS variable to an Angular ng-repeat filter?',\n",
              "  'How To Read Data using Ip Address',\n",
              "  'SSIS XML Decryption Message',\n",
              "  'Detecting selection change on a UITextView?',\n",
              "  'Different CSS background-image depending on month and year',\n",
              "  \"What's the equivalent averageifs for standard deviation?\",\n",
              "  'Segmentation faults using f2py',\n",
              "  ...]]"
            ]
          },
          "metadata": {
            "tags": []
          },
          "execution_count": 73
        }
      ]
    },
    {
      "cell_type": "code",
      "metadata": {
        "id": "AYi467SX3r6t",
        "colab_type": "code",
        "colab": {}
      },
      "source": [
        "from sklearn.metrics.pairwise import cosine_similarity"
      ],
      "execution_count": 0,
      "outputs": []
    },
    {
      "cell_type": "markdown",
      "metadata": {
        "id": "gl_0bBb03r6x",
        "colab_type": "text"
      },
      "source": [
        "We will use cosine distance to rank candidate questions which you need to implement in the function *rank_candidates*. The function should return a sorted list of pairs *(initial position in candidates list, candidate)*. Index of some pair corresponds to its rank (the first is the best). For example, if the list of candidates was *[a, b, c]* and the most similar is *c*, then *a* and *b*, the function should return a list *[(2, c), (0, a), (1, b)]*.\n",
        "\n",
        "Pay attention, if you use the function *cosine_similarity* from *sklearn.metrics.pairwise* to calculate similarity because it works in a different way: most similar objects has greatest similarity. It's preferable to use a vectorized version of *cosine_similarity* function. Try to compute similarity at once and not use list comprehension. It should speed up your computations significantly."
      ]
    },
    {
      "cell_type": "code",
      "metadata": {
        "id": "-DG08HaM3r6x",
        "colab_type": "code",
        "colab": {},
        "outputId": "077dfa08-da50-4f18-becf-71786d62b299"
      },
      "source": [
        "sim = [0.2, .99, -.3]\n",
        "Qs = ['Q1', 'Q2', 'Q3']\n",
        "merged_list=list(zip(sim, range(3), Qs))\n",
        "sorted_list  = sorted(merged_list, key=lambda x: x[0], reverse=True)\n",
        "print(sorted_list)\n",
        "result = [(b,c) for a,b,c in sorted_list]\n",
        "print(result)\n"
      ],
      "execution_count": 0,
      "outputs": [
        {
          "output_type": "stream",
          "text": [
            "[(0.99, 1, 'Q2'), (0.2, 0, 'Q1'), (-0.3, 2, 'Q3')]\n",
            "[(1, 'Q2'), (0, 'Q1'), (2, 'Q3')]\n"
          ],
          "name": "stdout"
        }
      ]
    },
    {
      "cell_type": "code",
      "metadata": {
        "id": "XOjx6lY93r6z",
        "colab_type": "code",
        "colab": {}
      },
      "source": [
        "def rank_candidates(question, candidates, embeddings, dim=300):\n",
        "    \"\"\"\n",
        "        question: a string\n",
        "        candidates: a list of strings (candidates) which we want to rank\n",
        "        embeddings: some embeddings\n",
        "        dim: dimension of the current embeddings\n",
        "        \n",
        "        result: a list of pairs (initial position in the list, question)\n",
        "    \"\"\"\n",
        "    ######################################\n",
        "    ######### YOUR CODE HERE #############\n",
        "    ######################################\n",
        "    q_vecs = np.array([question_to_vec(question, embeddings, dim) for i in range(len(candidates))])\n",
        "    cand_vecs = np.array([question_to_vec(candidate, embeddings, dim) for candidate in candidates])\n",
        "    cosines = np.array(cosine_similarity(q_vecs, cand_vecs)[0])\n",
        "    merged_list = list(zip(cosines, range(len(candidates)), candidates))\n",
        "    #print(merged_list)\n",
        "    sorted_list  = sorted(merged_list, key=lambda x: x[0], reverse=True)\n",
        "    result = [(b,c) for a,b,c in sorted_list]\n",
        "    return result\n",
        "\n",
        "    "
      ],
      "execution_count": 0,
      "outputs": []
    },
    {
      "cell_type": "markdown",
      "metadata": {
        "id": "RQ5cH_Iq3r62",
        "colab_type": "text"
      },
      "source": [
        "Test your code on the tiny examples:"
      ]
    },
    {
      "cell_type": "code",
      "metadata": {
        "id": "pb0kzbJM3r63",
        "colab_type": "code",
        "colab": {}
      },
      "source": [
        "def test_rank_candidates():\n",
        "    questions = ['converting string to list', 'Sending array via Ajax fails']\n",
        "    candidates = [['Convert Google results object (pure js) to Python object', \n",
        "                   'C# create cookie from string and send it',\n",
        "                   'How to use jQuery AJAX for an outside domain?'], \n",
        "                  ['Getting all list items of an unordered list in PHP', \n",
        "                   'WPF- How to update the changes in list item of a list', \n",
        "                   'select2 not displaying search results']]\n",
        "    results = [[(1, 'C# create cookie from string and send it'), \n",
        "                (0, 'Convert Google results object (pure js) to Python object'), \n",
        "                (2, 'How to use jQuery AJAX for an outside domain?')],\n",
        "               [(0, 'Getting all list items of an unordered list in PHP'), \n",
        "                (2, 'select2 not displaying search results'), \n",
        "                (1, 'WPF- How to update the changes in list item of a list')]]\n",
        "    for question, q_candidates, result in zip(questions, candidates, results):\n",
        "        ranks = rank_candidates(question, q_candidates, wv_embeddings, 300)\n",
        "        if not np.all(ranks == result):\n",
        "            return \"Check the function.\"\n",
        "    return \"Basic tests are passed.\""
      ],
      "execution_count": 0,
      "outputs": []
    },
    {
      "cell_type": "code",
      "metadata": {
        "id": "yZ33J0gE3r65",
        "colab_type": "code",
        "colab": {},
        "outputId": "7ab867f4-084e-4567-f4f4-3e3ff369060d"
      },
      "source": [
        "print(test_rank_candidates())"
      ],
      "execution_count": 0,
      "outputs": [
        {
          "output_type": "stream",
          "text": [
            "Basic tests are passed.\n"
          ],
          "name": "stdout"
        }
      ]
    },
    {
      "cell_type": "markdown",
      "metadata": {
        "id": "GMp_-tix3r67",
        "colab_type": "text"
      },
      "source": [
        "Now we can test the quality of the current approach. Run the next two cells to get the results. Pay attention that calculation of similarity between vectors takes time and this calculation is computed approximately in 10 minutes."
      ]
    },
    {
      "cell_type": "code",
      "metadata": {
        "id": "XpCFGI_X3r67",
        "colab_type": "code",
        "colab": {}
      },
      "source": [
        "wv_ranking = []\n",
        "for line in validation:\n",
        "    q, *ex = line\n",
        "    ranks = rank_candidates(q, ex, wv_embeddings)\n",
        "    wv_ranking.append([r[0] for r in ranks].index(0) + 1)"
      ],
      "execution_count": 0,
      "outputs": []
    },
    {
      "cell_type": "code",
      "metadata": {
        "id": "O8FlhdtQ3r69",
        "colab_type": "code",
        "colab": {},
        "outputId": "f9a03a70-2293-49e8-98d1-1554dbf76f7b"
      },
      "source": [
        "for k in [1, 5, 10, 100, 500, 1000]:\n",
        "    print(\"DCG@%4d: %.3f | Hits@%4d: %.3f\" % (k, dcg_score(wv_ranking, k), k, hits_count(wv_ranking, k)))"
      ],
      "execution_count": 0,
      "outputs": [
        {
          "output_type": "stream",
          "text": [
            "DCG@   1: 0.212 | Hits@   1: 0.212\n",
            "DCG@   5: 0.267 | Hits@   5: 0.315\n",
            "DCG@  10: 0.282 | Hits@  10: 0.363\n",
            "DCG@ 100: 0.320 | Hits@ 100: 0.552\n",
            "DCG@ 500: 0.353 | Hits@ 500: 0.811\n",
            "DCG@1000: 0.373 | Hits@1000: 1.000\n"
          ],
          "name": "stdout"
        }
      ]
    },
    {
      "cell_type": "markdown",
      "metadata": {
        "id": "hqBVlFHw3r6_",
        "colab_type": "text"
      },
      "source": [
        "If you did all the steps correctly, you should be frustrated by the received results. Let's try to understand why the quality is so low. First of all, when you work with some data it is necessary to have an idea how the data looks like. Print several questions from the data:"
      ]
    },
    {
      "cell_type": "code",
      "metadata": {
        "id": "vASox3Vx3r7A",
        "colab_type": "code",
        "colab": {},
        "outputId": "2c7556bb-0cf9-41aa-daaa-870f7b571263"
      },
      "source": [
        "for line in validation[:3]:\n",
        "    q, *examples = line\n",
        "    print(q, *examples[:3])"
      ],
      "execution_count": 0,
      "outputs": [
        {
          "output_type": "stream",
          "text": [
            "How to print a binary heap tree without recursion? How do you best convert a recursive function to an iterative one? How can i use ng-model with directive in angular js flash: drawing and erasing\n",
            "How to start PhoneStateListener programmatically? PhoneStateListener and service Java cast object[] to model WCF and What does this mean?\n",
            "jQuery: Show a div2 when mousenter over div1 is over when hover on div1 depenting on if it is on div2 or not it should act differently How to run selenium in google app engine/cloud? Python Comparing two lists of strings for similarities\n"
          ],
          "name": "stdout"
        }
      ]
    },
    {
      "cell_type": "markdown",
      "metadata": {
        "id": "LeT3mTzc3r7C",
        "colab_type": "text"
      },
      "source": [
        "As you can see, we deal with the raw data. It means that we have many punctuation marks, special characters and unlowercased letters. In our case, it could lead to the situation where we can't find some embeddings, e.g. for the word \"grid?\". \n",
        "\n",
        "To solve this problem you should use the functions *text_prepare* from the previous assignments to prepare the data."
      ]
    },
    {
      "cell_type": "code",
      "metadata": {
        "id": "ujlk2tJc3r7D",
        "colab_type": "code",
        "colab": {}
      },
      "source": [
        "from util import text_prepare"
      ],
      "execution_count": 0,
      "outputs": []
    },
    {
      "cell_type": "markdown",
      "metadata": {
        "id": "Tr6n19AP3r7F",
        "colab_type": "text"
      },
      "source": [
        "Now transform all the questions from the validation set:"
      ]
    },
    {
      "cell_type": "code",
      "metadata": {
        "id": "ivDv-goq3r7G",
        "colab_type": "code",
        "colab": {}
      },
      "source": [
        "prepared_validation = []\n",
        "for line in validation:\n",
        "    prepared_validation.append([text_prepare(sentence) for sentence in line])\n",
        "    ######### YOUR CODE HERE #############"
      ],
      "execution_count": 0,
      "outputs": []
    },
    {
      "cell_type": "markdown",
      "metadata": {
        "id": "QxxKn9Xz3r7J",
        "colab_type": "text"
      },
      "source": [
        "Let's evaluate the approach again after the preparation:"
      ]
    },
    {
      "cell_type": "code",
      "metadata": {
        "id": "lt14l3JW3r7J",
        "colab_type": "code",
        "colab": {}
      },
      "source": [
        "wv_prepared_ranking = []\n",
        "for line in prepared_validation:\n",
        "    q, *ex = line\n",
        "    ranks = rank_candidates(q, ex, wv_embeddings)\n",
        "    wv_prepared_ranking.append([r[0] for r in ranks].index(0) + 1)"
      ],
      "execution_count": 0,
      "outputs": []
    },
    {
      "cell_type": "code",
      "metadata": {
        "id": "D2Zfmwnk3r7P",
        "colab_type": "code",
        "colab": {},
        "outputId": "02ad8980-f106-4b11-acb4-64e6c276f3af"
      },
      "source": [
        "for k in [1, 5, 10, 100, 500, 1000]:\n",
        "    print(\"DCG@%4d: %.3f | Hits@%4d: %.3f\" % (k, dcg_score(wv_prepared_ranking, k), \n",
        "                                              k, hits_count(wv_prepared_ranking, k)))"
      ],
      "execution_count": 0,
      "outputs": [
        {
          "output_type": "stream",
          "text": [
            "DCG@   1: 0.310 | Hits@   1: 0.310\n",
            "DCG@   5: 0.380 | Hits@   5: 0.443\n",
            "DCG@  10: 0.397 | Hits@  10: 0.494\n",
            "DCG@ 100: 0.430 | Hits@ 100: 0.661\n",
            "DCG@ 500: 0.453 | Hits@ 500: 0.835\n",
            "DCG@1000: 0.470 | Hits@1000: 1.000\n"
          ],
          "name": "stdout"
        }
      ]
    },
    {
      "cell_type": "markdown",
      "metadata": {
        "id": "d-J8ehFY3r7S",
        "colab_type": "text"
      },
      "source": [
        "Now, prepare also train and test data, because you will need it in the future:"
      ]
    },
    {
      "cell_type": "code",
      "metadata": {
        "id": "36TNTYRu3r7T",
        "colab_type": "code",
        "colab": {}
      },
      "source": [
        "def prepare_file(in_, out_):\n",
        "    out = open(out_, 'w')\n",
        "    for line in open(in_, encoding='utf8'):\n",
        "        line = line.strip().split('\\t')\n",
        "        new_line = [text_prepare(q) for q in line]\n",
        "        print(*new_line, sep='\\t', file=out)\n",
        "    out.close()"
      ],
      "execution_count": 0,
      "outputs": []
    },
    {
      "cell_type": "code",
      "metadata": {
        "id": "wsakbr3-3r7V",
        "colab_type": "code",
        "colab": {}
      },
      "source": [
        "######################################\n",
        "######### YOUR CODE HERE #############\n",
        "######################################\n",
        "prepare_file('data/train.tsv', 'data/prepared_train.tsv')\n",
        "prepare_file('data/test.tsv', 'data/prepared_test.tsv')"
      ],
      "execution_count": 0,
      "outputs": []
    },
    {
      "cell_type": "markdown",
      "metadata": {
        "id": "TY84BlYK3r7Y",
        "colab_type": "text"
      },
      "source": [
        "**Task 4 (W2VTokenizedRanks).** For each question from prepared *test.tsv* submit the ranks of the candidates to earn the points. The calculations should take about 3-5 minutes. Pay attention that the function *rank_candidates* returns a ranking, while in this case you should find a position in this ranking. Ranks should start with 1."
      ]
    },
    {
      "cell_type": "code",
      "metadata": {
        "id": "SOiUJl2L3r7Z",
        "colab_type": "code",
        "colab": {}
      },
      "source": [
        "from util import matrix_to_string"
      ],
      "execution_count": 0,
      "outputs": []
    },
    {
      "cell_type": "code",
      "metadata": {
        "id": "79fEHOTW3r7d",
        "colab_type": "code",
        "colab": {},
        "outputId": "40c774a3-6922-46ac-a69c-ac7759d7ac2b"
      },
      "source": [
        "w2v_ranks_results = []\n",
        "prepared_test_data = 'data/prepared_test.tsv' ######### YOUR CODE HERE #############\n",
        "for line in open(prepared_test_data):\n",
        "    q, *ex = line.strip().split('\\t')\n",
        "    ranks = rank_candidates(q, ex, wv_embeddings, 300)\n",
        "    ranked_candidates = [r[0] for r in ranks]\n",
        "    w2v_ranks_results.append([ranked_candidates.index(i) + 1 for i in range(len(ranked_candidates))])\n",
        "    \n",
        "grader.submit_tag('W2VTokenizedRanks', matrix_to_string(w2v_ranks_results))"
      ],
      "execution_count": 0,
      "outputs": [
        {
          "output_type": "stream",
          "text": [
            "Current answer for task W2VTokenizedRanks is: 95\t94\t7\t9\t64\t36\t31\t93\t23\t100\t99\t20\t60\t6\t97\t48\t70\t37\t41\t96\t29\t56\t2\t65\t68\t44\t27\t25\t57\t62\t11\t87\t50\t66\t7...\n"
          ],
          "name": "stdout"
        }
      ]
    },
    {
      "cell_type": "code",
      "metadata": {
        "id": "1XQMTlSU3r7f",
        "colab_type": "code",
        "colab": {}
      },
      "source": [
        ""
      ],
      "execution_count": 0,
      "outputs": []
    },
    {
      "cell_type": "markdown",
      "metadata": {
        "id": "a4hNG4NC3r7g",
        "colab_type": "text"
      },
      "source": [
        "## Advanced solution: StarSpace embeddings\n",
        "\n",
        "Now you are ready to train your own word embeddings! In particular, you need to train embeddings specially for our task of duplicates detection. Unfortunately, StarSpace cannot be run on Windows and we recommend to use provided\n",
        "[docker container](https://github.com/hse-aml/natural-language-processing/blob/master/Docker-tutorial.md) or other alternatives. Don't delete results of this task because you will need it in the final project.\n",
        "\n",
        "### How it works and what's the main difference with word2vec?\n",
        "The main point in this section is that StarSpace can be trained specifically for some tasks. In contrast to word2vec model, which tries to train similar embeddings for words in similar contexts, StarSpace uses embeddings for the whole sentence (just as a sum of embeddings of words and phrases). Despite the fact that in both cases we get word embeddings as a result of the training, StarSpace embeddings are trained using some supervised data, e.g. a set of similar sentence pairs, and thus they can better suit the task.\n",
        "\n",
        "In our case, StarSpace should use two types of sentence pairs for training: \"positive\" and \"negative\". \"Positive\" examples are extracted from the train sample (duplicates, high similarity) and the \"negative\" examples are generated randomly (low similarity assumed). \n",
        "\n",
        "### How to choose the best params for the model?\n",
        "Normally, you would start with some default choice and then run extensive experiments to compare different strategies. However, we have some recommendations ready for you to save your time:\n",
        "- Be careful with choosing the suitable training mode. In this task we want to explore texts similarity which corresponds to *trainMode = 3*.\n",
        "- Use adagrad optimization (parameter *adagrad = true*).\n",
        "- Set the length of phrase equal to 1 (parameter *ngrams*), because we need embeddings only for words.\n",
        "- Don't use a large number of *epochs* (we think that 5 should be enough).\n",
        "- Try dimension *dim* equal to 100.\n",
        "- To compare embeddings usually *cosine* *similarity* is used.\n",
        "- Set *minCount* greater than 1 (for example, 2) if you don't want to get embeddings for extremely rare words.\n",
        "- Parameter *verbose = true* could show you the progress of the training process.\n",
        "- Set parameter *fileFormat* equals *labelDoc*.\n",
        "- Parameter *negSearchLimit* is responsible for a number of negative examples which is used during the training. We think that 10 will be enought for this task.\n",
        "- To increase a speed of training we recommend to set *learning rate* to 0.05."
      ]
    },
    {
      "cell_type": "markdown",
      "metadata": {
        "id": "D56s2vro3r7h",
        "colab_type": "text"
      },
      "source": [
        "Train StarSpace embeddings for unigrams on the train dataset. You don't need to change the format of the input data. Just don't forget to use prepared version of the training data. \n",
        "\n",
        "If you follow the instruction, the training process will take about 1 hour."
      ]
    },
    {
      "cell_type": "code",
      "metadata": {
        "scrolled": false,
        "id": "9dcW5Io93r7h",
        "colab_type": "code",
        "colab": {},
        "outputId": "04621c4f-db59-48bd-b1c9-5aba817e8c8e"
      },
      "source": [
        "######### TRAINING HAPPENING HERE #############\n",
        "!starspace train -trainFile \"data/prepared_train.tsv\" -model starspace_embedding \\\n",
        "-trainMode 3 -adagrad true -ngrams 1 -epoch 5 -dim 100 -similarity cosine -minCount 2 \\\n",
        "-verbose true -fileFormat labelDoc -negSearchLimit 10 -lr 0.05 "
      ],
      "execution_count": 0,
      "outputs": [
        {
          "output_type": "stream",
          "text": [
            "Arguments: \n",
            "lr: 0.05\n",
            "dim: 100\n",
            "epoch: 5\n",
            "maxTrainTime: 8640000\n",
            "saveEveryEpoch: 0\n",
            "loss: hinge\n",
            "margin: 0.05\n",
            "similarity: cosine\n",
            "maxNegSamples: 10\n",
            "negSearchLimit: 10\n",
            "thread: 10\n",
            "minCount: 2\n",
            "minCountLabel: 1\n",
            "label: __label__\n",
            "ngrams: 1\n",
            "bucket: 2000000\n",
            "adagrad: 1\n",
            "trainMode: 3\n",
            "fileFormat: labelDoc\n",
            "normalizeText: 0\n",
            "dropoutLHS: 0\n",
            "dropoutRHS: 0\n",
            "Start to initialize starspace model.\n",
            "Build dict from input file : data/prepared_train.tsv\n",
            "Read 12M words\n",
            "Number of words in dictionary:  95058\n",
            "Number of labels in dictionary: 0\n",
            "Loading data from file : data/prepared_train.tsv\n",
            "Total number of examples loaded : 999740\n",
            "Initialized model weights. Model size :\n",
            "matrix : 95058 100\n",
            "Training epoch 0: 0.05 0.01\n",
            "Epoch: 100.0%  lr: 0.040110  loss: 0.008932  eta: 0h12m  tot: 0h3m2s  (20.0%)%  lr: 0.049780  loss: 0.035054  eta: 0h16m  tot: 0h0m5s  (0.6%)h0m11s  (1.2%)8.0%  lr: 0.049179  loss: 0.023291  eta: 0h15m  tot: 0h0m15s  (1.6%)8.4%  lr: 0.049139  loss: 0.022844  eta: 0h16m  tot: 0h0m16s  (1.7%)%  lr: 0.048929  loss: 0.021393  eta: 0h15m  tot: 0h0m19s  (2.0%)10.4%  lr: 0.048889  loss: 0.020889  eta: 0h15m  tot: 0h0m19s  (2.1%)14.4%  lr: 0.048549  loss: 0.018580  eta: 0h15m  tot: 0h0m26s  (2.9%)15.2%  lr: 0.048448  loss: 0.018229  eta: 0h15m  tot: 0h0m28s  (3.0%)15m  tot: 0h0m31s  (3.4%)19.6%  lr: 0.048028  loss: 0.016440  eta: 0h14m  tot: 0h0m36s  (3.9%)0.015840  eta: 0h14m  tot: 0h0m40s  (4.3%)m  tot: 0h0m41s  (4.5%)24.7%  lr: 0.047538  loss: 0.015077  eta: 0h14m  tot: 0h0m45s  (4.9%)26.0%  lr: 0.047437  loss: 0.014704  eta: 0h14m  tot: 0h0m48s  (5.2%)26.8%  lr: 0.047397  loss: 0.014505  eta: 0h14m  tot: 0h0m49s  (5.4%)26.9%  lr: 0.047387  loss: 0.014486  eta: 0h14m  tot: 0h0m49s  (5.4%)%  lr: 0.047257  loss: 0.014242  eta: 0h14m  tot: 0h0m52s  (5.6%)0.014163  eta: 0h14m  tot: 0h0m53s  (5.8%)30.2%  lr: 0.047057  loss: 0.013932  eta: 0h14m  tot: 0h0m56s  (6.0%)33.1%  lr: 0.046897  loss: 0.013410  eta: 0h14m  tot: 0h1m1s  (6.6%)33.2%  lr: 0.046877  loss: 0.013414  eta: 0h14m  tot: 0h1m1s  (6.6%)34.0%  lr: 0.046807  loss: 0.013301  eta: 0h14m  tot: 0h1m3s  (6.8%)35.1%  lr: 0.046647  loss: 0.013196  eta: 0h14m  tot: 0h1m5s  (7.0%)38.3%  lr: 0.046306  loss: 0.012862  eta: 0h14m  tot: 0h1m10s  (7.7%)39.2%  lr: 0.046206  loss: 0.012755  eta: 0h14m  tot: 0h1m11s  (7.8%)%  lr: 0.046146  loss: 0.012677  eta: 0h14m  tot: 0h1m13s  (8.0%)40.4%  lr: 0.046106  loss: 0.012624  eta: 0h13m  tot: 0h1m13s  (8.1%)0.012525  eta: 0h13m  tot: 0h1m15s  (8.2%)41.4%  lr: 0.046006  loss: 0.012501  eta: 0h13m  tot: 0h1m15s  (8.3%)41.6%  lr: 0.045996  loss: 0.012471  eta: 0h13m  tot: 0h1m16s  (8.3%)43.0%  lr: 0.045866  loss: 0.012295  eta: 0h13m  tot: 0h1m19s  (8.6%)0.045846  loss: 0.012277  eta: 0h14m  tot: 0h1m19s  (8.6%)44.5%  lr: 0.045716  loss: 0.012140  eta: 0h14m  tot: 0h1m22s  (8.9%)46.5%  lr: 0.045536  loss: 0.011901  eta: 0h13m  tot: 0h1m25s  (9.3%)46.9%  lr: 0.045496  loss: 0.011846  eta: 0h13m  tot: 0h1m25s  (9.4%)47.1%  lr: 0.045466  loss: 0.011836  eta: 0h13m  tot: 0h1m26s  (9.4%)47.7%  lr: 0.045405  loss: 0.011773  eta: 0h13m  tot: 0h1m27s  (9.5%)48.8%  lr: 0.045265  loss: 0.011685  eta: 0h13m  tot: 0h1m29s  (9.8%)%  lr: 0.045205  loss: 0.011625  eta: 0h13m  tot: 0h1m30s  (9.9%)13m  tot: 0h1m31s  (10.0%)55.0%  lr: 0.044725  loss: 0.011149  eta: 0h13m  tot: 0h1m40s  (11.0%)55.2%  lr: 0.044695  loss: 0.011133  eta: 0h13m  tot: 0h1m40s  (11.0%)55.4%  lr: 0.044675  loss: 0.011122  eta: 0h13m  tot: 0h1m40s  (11.1%)55.9%  lr: 0.044625  loss: 0.011103  eta: 0h13m  tot: 0h1m41s  (11.2%)%  lr: 0.044575  loss: 0.011082  eta: 0h13m  tot: 0h1m42s  (11.3%)56.7%  lr: 0.044565  loss: 0.011039  eta: 0h13m  tot: 0h1m43s  (11.3%)56.9%  lr: 0.044545  loss: 0.011035  eta: 0h13m  tot: 0h1m43s  (11.4%)58.6%  lr: 0.044334  loss: 0.010939  eta: 0h13m  tot: 0h1m46s  (11.7%)64.9%  lr: 0.043654  loss: 0.010518  eta: 0h13m  tot: 0h1m57s  (13.0%)h13m  tot: 0h1m58s  (13.1%)66.5%  lr: 0.043474  loss: 0.010397  eta: 0h13m  tot: 0h2m0s  (13.3%)66.9%  lr: 0.043424  loss: 0.010376  eta: 0h13m  tot: 0h2m0s  (13.4%)67.8%  lr: 0.043363  loss: 0.010307  eta: 0h13m  tot: 0h2m2s  (13.6%)68.0%  lr: 0.043343  loss: 0.010309  eta: 0h12m  tot: 0h2m2s  (13.6%)%  lr: 0.043243  loss: 0.010239  eta: 0h12m  tot: 0h2m4s  (13.8%)71.3%  lr: 0.043063  loss: 0.010122  eta: 0h12m  tot: 0h2m9s  (14.3%)73.1%  lr: 0.042863  loss: 0.010017  eta: 0h12m  tot: 0h2m12s  (14.6%)74.5%  lr: 0.042703  loss: 0.009944  eta: 0h12m  tot: 0h2m15s  (14.9%)12m  tot: 0h2m17s  (15.2%)77.4%  lr: 0.042523  loss: 0.009805  eta: 0h12m  tot: 0h2m20s  (15.5%)77.6%  lr: 0.042493  loss: 0.009794  eta: 0h12m  tot: 0h2m21s  (15.5%)77.7%  lr: 0.042483  loss: 0.009790  eta: 0h12m  tot: 0h2m21s  (15.5%)0.009706  eta: 0h12m  tot: 0h2m25s  (15.9%)81.4%  lr: 0.042102  loss: 0.009638  eta: 0h12m  tot: 0h2m27s  (16.3%)0h12m  tot: 0h2m32s  (16.8%)87.0%  lr: 0.041472  loss: 0.009406  eta: 0h12m  tot: 0h2m38s  (17.4%)0.009381  eta: 0h12m  tot: 0h2m39s  (17.6%)92.2%  lr: 0.040891  loss: 0.009208  eta: 0h12m  tot: 0h2m47s  (18.4%)97.0%  lr: 0.040340  loss: 0.009042  eta: 0h12m  tot: 0h2m56s  (19.4%)99.4%  lr: 0.040160  loss: 0.008951  eta: 0h12m  tot: 0h3m1s  (19.9%)99.8%  lr: 0.040120  loss: 0.008937  eta: 0h12m  tot: 0h3m2s  (20.0%)\n",
            " ---+++                Epoch    0 Train error : 0.00892204 +++--- ���\n",
            "Training epoch 1: 0.04 0.01\n",
            "Epoch: 100.0%  lr: 0.030130  loss: 0.002629  eta: 0h8m  tot: 0h5m59s  (40.0%)%  lr: 0.039950  loss: 0.002057  eta: 0h9m  tot: 0h3m6s  (20.2%)1.4%  lr: 0.039920  loss: 0.002178  eta: 0h10m  tot: 0h3m7s  (20.3%)3.4%  lr: 0.039670  loss: 0.002664  eta: 0h11m  tot: 0h3m10s  (20.7%)9.9%  lr: 0.038999  loss: 0.002470  eta: 0h11m  tot: 0h3m21s  (22.0%)10.1%  lr: 0.038989  loss: 0.002470  eta: 0h11m  tot: 0h3m22s  (22.0%)11.3%  lr: 0.038849  loss: 0.002478  eta: 0h11m  tot: 0h3m24s  (22.3%)13.7%  lr: 0.038519  loss: 0.002558  eta: 0h11m  tot: 0h3m28s  (22.7%)14.5%  lr: 0.038408  loss: 0.002575  eta: 0h11m  tot: 0h3m30s  (22.9%)19.2%  lr: 0.037938  loss: 0.002543  eta: 0h11m  tot: 0h3m38s  (23.8%)19.7%  lr: 0.037918  loss: 0.002535  eta: 0h10m  tot: 0h3m39s  (23.9%)23.9%  lr: 0.037518  loss: 0.002569  eta: 0h10m  tot: 0h3m46s  (24.8%)%  lr: 0.037247  loss: 0.002598  eta: 0h10m  tot: 0h3m52s  (25.3%)27.3%  lr: 0.037197  loss: 0.002599  eta: 0h10m  tot: 0h3m53s  (25.5%)27.4%  lr: 0.037187  loss: 0.002600  eta: 0h10m  tot: 0h3m53s  (25.5%)27.6%  lr: 0.037137  loss: 0.002610  eta: 0h10m  tot: 0h3m53s  (25.5%)27.7%  lr: 0.037127  loss: 0.002614  eta: 0h10m  tot: 0h3m54s  (25.5%)28.3%  lr: 0.037067  loss: 0.002612  eta: 0h10m  tot: 0h3m54s  (25.7%)0.036997  loss: 0.002610  eta: 0h10m  tot: 0h3m56s  (25.8%)29.4%  lr: 0.036947  loss: 0.002611  eta: 0h10m  tot: 0h3m57s  (25.9%)%  lr: 0.036907  loss: 0.002620  eta: 0h10m  tot: 0h3m58s  (26.0%)30.2%  lr: 0.036887  loss: 0.002628  eta: 0h10m  tot: 0h3m58s  (26.0%)30.8%  lr: 0.036847  loss: 0.002634  eta: 0h10m  tot: 0h3m59s  (26.2%)31.8%  lr: 0.036787  loss: 0.002642  eta: 0h10m  tot: 0h4m0s  (26.4%)33.9%  lr: 0.036657  loss: 0.002650  eta: 0h10m  tot: 0h4m3s  (26.8%)34.1%  lr: 0.036657  loss: 0.002643  eta: 0h10m  tot: 0h4m3s  (26.8%)35.2%  lr: 0.036557  loss: 0.002666  eta: 0h10m  tot: 0h4m5s  (27.0%)35.6%  lr: 0.036527  loss: 0.002658  eta: 0h10m  tot: 0h4m6s  (27.1%)10m  tot: 0h4m9s  (27.5%)0h10m  tot: 0h4m18s  (28.4%)44.2%  lr: 0.035716  loss: 0.002632  eta: 0h10m  tot: 0h4m22s  (28.8%)44.5%  lr: 0.035686  loss: 0.002637  eta: 0h10m  tot: 0h4m22s  (28.9%)46.7%  lr: 0.035425  loss: 0.002662  eta: 0h10m  tot: 0h4m26s  (29.3%)47.1%  lr: 0.035415  loss: 0.002661  eta: 0h10m  tot: 0h4m27s  (29.4%)47.6%  lr: 0.035355  loss: 0.002657  eta: 0h10m  tot: 0h4m27s  (29.5%)48.0%  lr: 0.035345  loss: 0.002661  eta: 0h10m  tot: 0h4m28s  (29.6%)0h10m  tot: 0h4m29s  (29.7%)48.6%  lr: 0.035285  loss: 0.002665  eta: 0h10m  tot: 0h4m29s  (29.7%)49.5%  lr: 0.035205  loss: 0.002665  eta: 0h10m  tot: 0h4m31s  (29.9%)52.1%  lr: 0.034965  loss: 0.002651  eta: 0h10m  tot: 0h4m35s  (30.4%)0.034425  loss: 0.002641  eta: 0h10m  tot: 0h4m41s  (31.1%)56.0%  lr: 0.034354  loss: 0.002640  eta: 0h10m  tot: 0h4m42s  (31.2%)0.034154  loss: 0.002647  eta: 0h9m  tot: 0h4m46s  (31.6%)%  lr: 0.034154  loss: 0.002648  eta: 0h9m  tot: 0h4m46s  (31.6%)58.4%  lr: 0.034144  loss: 0.002649  eta: 0h9m  tot: 0h4m46s  (31.7%)%  lr: 0.034024  loss: 0.002656  eta: 0h9m  tot: 0h4m49s  (32.0%)60.4%  lr: 0.033934  loss: 0.002650  eta: 0h9m  tot: 0h4m50s  (32.1%)60.9%  lr: 0.033854  loss: 0.002648  eta: 0h9m  tot: 0h4m51s  (32.2%)62.0%  lr: 0.033764  loss: 0.002652  eta: 0h9m  tot: 0h4m53s  (32.4%)62.7%  lr: 0.033694  loss: 0.002646  eta: 0h9m  tot: 0h4m54s  (32.5%)64.3%  lr: 0.033494  loss: 0.002644  eta: 0h9m  tot: 0h4m57s  (32.9%)68.8%  lr: 0.032973  loss: 0.002657  eta: 0h9m  tot: 0h5m6s  (33.8%)69.6%  lr: 0.032933  loss: 0.002657  eta: 0h9m  tot: 0h5m7s  (33.9%)69.7%  lr: 0.032913  loss: 0.002655  eta: 0h9m  tot: 0h5m7s  (33.9%)69.9%  lr: 0.032893  loss: 0.002656  eta: 0h9m  tot: 0h5m8s  (34.0%)70.4%  lr: 0.032853  loss: 0.002657  eta: 0h9m  tot: 0h5m9s  (34.1%)75.3%  lr: 0.032433  loss: 0.002653  eta: 0h9m  tot: 0h5m17s  (35.1%)%  lr: 0.032362  loss: 0.002654  eta: 0h9m  tot: 0h5m18s  (35.1%)80.6%  lr: 0.031792  loss: 0.002642  eta: 0h9m  tot: 0h5m27s  (36.1%)81.5%  lr: 0.031752  loss: 0.002645  eta: 0h9m  tot: 0h5m29s  (36.3%)%  lr: 0.031712  loss: 0.002645  eta: 0h9m  tot: 0h5m29s  (36.3%)81.9%  lr: 0.031672  loss: 0.002644  eta: 0h9m  tot: 0h5m29s  (36.4%)82.5%  lr: 0.031652  loss: 0.002646  eta: 0h9m  tot: 0h5m30s  (36.5%)82.6%  lr: 0.031642  loss: 0.002645  eta: 0h9m  tot: 0h5m30s  (36.5%)83.4%  lr: 0.031562  loss: 0.002648  eta: 0h9m  tot: 0h5m32s  (36.7%)9m  tot: 0h5m34s  (36.9%)85.6%  lr: 0.031372  loss: 0.002651  eta: 0h9m  tot: 0h5m35s  (37.1%)9m  tot: 0h5m40s  (37.6%)89.1%  lr: 0.031091  loss: 0.002647  eta: 0h9m  tot: 0h5m41s  (37.8%)89.8%  lr: 0.031021  loss: 0.002642  eta: 0h9m  tot: 0h5m42s  (38.0%)90.0%  lr: 0.031011  loss: 0.002641  eta: 0h9m  tot: 0h5m43s  (38.0%)90.1%  lr: 0.030981  loss: 0.002641  eta: 0h9m  tot: 0h5m43s  (38.0%)%  lr: 0.030941  loss: 0.002641  eta: 0h9m  tot: 0h5m43s  (38.1%)90.8%  lr: 0.030871  loss: 0.002644  eta: 0h9m  tot: 0h5m44s  (38.2%)92.0%  lr: 0.030761  loss: 0.002635  eta: 0h8m  tot: 0h5m46s  (38.4%)92.2%  lr: 0.030761  loss: 0.002634  eta: 0h8m  tot: 0h5m46s  (38.4%)93.4%  lr: 0.030661  loss: 0.002630  eta: 0h8m  tot: 0h5m48s  (38.7%)93.9%  lr: 0.030591  loss: 0.002627  eta: 0h8m  tot: 0h5m49s  (38.8%)94.3%  lr: 0.030561  loss: 0.002627  eta: 0h8m  tot: 0h5m50s  (38.9%)94.6%  lr: 0.030561  loss: 0.002626  eta: 0h8m  tot: 0h5m50s  (38.9%)95.8%  lr: 0.030471  loss: 0.002621  eta: 0h8m  tot: 0h5m52s  (39.2%)96.0%  lr: 0.030421  loss: 0.002622  eta: 0h8m  tot: 0h5m52s  (39.2%)m  tot: 0h5m58s  (39.9%)\n",
            " ---+++                Epoch    1 Train error : 0.00267679 +++--- ���\n",
            "Training epoch 2: 0.03 0.01\n"
          ],
          "name": "stdout"
        },
        {
          "output_type": "stream",
          "text": [
            "Epoch: 100.0%  lr: 0.020100  loss: 0.001884  eta: 0h5m  tot: 0h8m50s  (60.0%)%  lr: 0.029950  loss: 0.002252  eta: 0h6m  tot: 0h6m2s  (40.2%)2.1%  lr: 0.029900  loss: 0.001723  eta: 0h8m  tot: 0h6m4s  (40.4%)5.7%  lr: 0.029530  loss: 0.001844  eta: 0h8m  tot: 0h6m11s  (41.1%)7.2%  lr: 0.029449  loss: 0.001875  eta: 0h8m  tot: 0h6m13s  (41.4%)9.5%  lr: 0.029309  loss: 0.001857  eta: 0h8m  tot: 0h6m17s  (41.9%)9.8%  lr: 0.029279  loss: 0.001848  eta: 0h8m  tot: 0h6m18s  (42.0%)9.9%  lr: 0.029259  loss: 0.001845  eta: 0h8m  tot: 0h6m18s  (42.0%)10.0%  lr: 0.029249  loss: 0.001843  eta: 0h8m  tot: 0h6m18s  (42.0%)11.1%  lr: 0.029089  loss: 0.001788  eta: 0h8m  tot: 0h6m20s  (42.2%)13.5%  lr: 0.028769  loss: 0.001823  eta: 0h8m  tot: 0h6m24s  (42.7%)13.6%  lr: 0.028759  loss: 0.001817  eta: 0h8m  tot: 0h6m24s  (42.7%)16.5%  lr: 0.028378  loss: 0.001789  eta: 0h8m  tot: 0h6m29s  (43.3%)16.9%  lr: 0.028338  loss: 0.001787  eta: 0h8m  tot: 0h6m30s  (43.4%)8m  tot: 0h6m31s  (43.5%)19.4%  lr: 0.028058  loss: 0.001806  eta: 0h8m  tot: 0h6m34s  (43.9%)20.2%  lr: 0.027958  loss: 0.001818  eta: 0h8m  tot: 0h6m36s  (44.0%)24.7%  lr: 0.027508  loss: 0.001859  eta: 0h7m  tot: 0h6m44s  (44.9%)27.1%  lr: 0.027197  loss: 0.001867  eta: 0h7m  tot: 0h6m48s  (45.4%)27.3%  lr: 0.027187  loss: 0.001869  eta: 0h7m  tot: 0h6m48s  (45.5%)%  lr: 0.027107  loss: 0.001881  eta: 0h7m  tot: 0h6m49s  (45.6%)28.5%  lr: 0.027007  loss: 0.001880  eta: 0h7m  tot: 0h6m50s  (45.7%)29.9%  lr: 0.026887  loss: 0.001869  eta: 0h7m  tot: 0h6m52s  (46.0%)30.3%  lr: 0.026867  loss: 0.001873  eta: 0h7m  tot: 0h6m53s  (46.1%)31.3%  lr: 0.026797  loss: 0.001868  eta: 0h7m  tot: 0h6m54s  (46.3%)31.4%  lr: 0.026797  loss: 0.001870  eta: 0h7m  tot: 0h6m54s  (46.3%)31.6%  lr: 0.026777  loss: 0.001872  eta: 0h7m  tot: 0h6m55s  (46.3%)32.0%  lr: 0.026737  loss: 0.001870  eta: 0h7m  tot: 0h6m56s  (46.4%)34.3%  lr: 0.026607  loss: 0.001882  eta: 0h7m  tot: 0h6m59s  (46.9%)36.4%  lr: 0.026436  loss: 0.001874  eta: 0h7m  tot: 0h7m2s  (47.3%)m  tot: 0h7m25s  (49.9%)50.0%  lr: 0.024985  loss: 0.001890  eta: 0h7m  tot: 0h7m26s  (50.0%)%  lr: 0.024885  loss: 0.001885  eta: 0h7m  tot: 0h7m28s  (50.2%)52.0%  lr: 0.024705  loss: 0.001884  eta: 0h7m  tot: 0h7m30s  (50.4%)%  lr: 0.024695  loss: 0.001883  eta: 0h7m  tot: 0h7m30s  (50.4%)52.8%  lr: 0.024635  loss: 0.001887  eta: 0h7m  tot: 0h7m31s  (50.6%)%  lr: 0.024615  loss: 0.001885  eta: 0h6m  tot: 0h7m33s  (50.8%)54.5%  lr: 0.024535  loss: 0.001887  eta: 0h6m  tot: 0h7m33s  (50.9%)0.024495  loss: 0.001882  eta: 0h6m  tot: 0h7m34s  (51.0%)6m  tot: 0h7m34s  (51.0%)55.3%  lr: 0.024465  loss: 0.001880  eta: 0h6m  tot: 0h7m35s  (51.1%)56.1%  lr: 0.024415  loss: 0.001884  eta: 0h6m  tot: 0h7m36s  (51.2%)56.8%  lr: 0.024354  loss: 0.001881  eta: 0h6m  tot: 0h7m37s  (51.4%)6m  tot: 0h7m38s  (51.4%)58.2%  lr: 0.024224  loss: 0.001874  eta: 0h6m  tot: 0h7m40s  (51.6%)60.2%  lr: 0.024034  loss: 0.001875  eta: 0h6m  tot: 0h7m43s  (52.0%)61.6%  lr: 0.023944  loss: 0.001876  eta: 0h6m  tot: 0h7m45s  (52.3%)62.0%  lr: 0.023864  loss: 0.001877  eta: 0h6m  tot: 0h7m46s  (52.4%)6m  tot: 0h7m46s  (52.4%)63.7%  lr: 0.023594  loss: 0.001892  eta: 0h6m  tot: 0h7m49s  (52.7%)64.8%  lr: 0.023564  loss: 0.001895  eta: 0h6m  tot: 0h7m51s  (53.0%)%  lr: 0.023464  loss: 0.001908  eta: 0h6m  tot: 0h7m53s  (53.2%)67.1%  lr: 0.023303  loss: 0.001902  eta: 0h6m  tot: 0h7m55s  (53.4%)69.4%  lr: 0.023093  loss: 0.001890  eta: 0h6m  tot: 0h7m59s  (53.9%)71.8%  lr: 0.022883  loss: 0.001887  eta: 0h6m  tot: 0h8m3s  (54.4%)72.8%  lr: 0.022753  loss: 0.001890  eta: 0h6m  tot: 0h8m4s  (54.6%)74.8%  lr: 0.022613  loss: 0.001877  eta: 0h6m  tot: 0h8m8s  (55.0%)75.9%  lr: 0.022543  loss: 0.001879  eta: 0h6m  tot: 0h8m9s  (55.2%)76.1%  lr: 0.022513  loss: 0.001880  eta: 0h6m  tot: 0h8m10s  (55.2%)  lr: 0.022403  loss: 0.001874  eta: 0h6m  tot: 0h8m11s  (55.4%)77.1%  lr: 0.022403  loss: 0.001873  eta: 0h6m  tot: 0h8m12s  (55.4%)78.1%  lr: 0.022272  loss: 0.001878  eta: 0h6m  tot: 0h8m14s  (55.6%)78.7%  lr: 0.022232  loss: 0.001873  eta: 0h6m  tot: 0h8m15s  (55.7%)79.2%  lr: 0.022182  loss: 0.001875  eta: 0h6m  tot: 0h8m15s  (55.8%)81.2%  lr: 0.021982  loss: 0.001876  eta: 0h6m  tot: 0h8m18s  (56.2%)  lr: 0.021872  loss: 0.001877  eta: 0h6m  tot: 0h8m20s  (56.4%)81.9%  lr: 0.021872  loss: 0.001881  eta: 0h6m  tot: 0h8m20s  (56.4%)82.0%  lr: 0.021852  loss: 0.001879  eta: 0h6m  tot: 0h8m20s  (56.4%)m  tot: 0h8m21s  (56.5%)0.001874  eta: 0h6m  tot: 0h8m23s  (56.7%)86.5%  lr: 0.021382  loss: 0.001882  eta: 0h6m  tot: 0h8m28s  (57.3%)88.3%  lr: 0.021201  loss: 0.001888  eta: 0h6m  tot: 0h8m31s  (57.7%)%  lr: 0.021131  loss: 0.001885  eta: 0h5m  tot: 0h8m32s  (57.8%)90.8%  lr: 0.020931  loss: 0.001885  eta: 0h5m  tot: 0h8m35s  (58.2%)92.7%  lr: 0.020771  loss: 0.001884  eta: 0h5m  tot: 0h8m38s  (58.5%)0.020421  loss: 0.001880  eta: 0h5m  tot: 0h8m44s  (59.3%)96.5%  lr: 0.020411  loss: 0.001879  eta: 0h5m  tot: 0h8m44s  (59.3%)  lr: 0.020300  loss: 0.001882  eta: 0h5m  tot: 0h8m46s  (59.5%)98.3%  lr: 0.020210  loss: 0.001882  eta: 0h5m  tot: 0h8m48s  (59.7%)\n",
            " ---+++                Epoch    2 Train error : 0.00189600 +++--- ���\n",
            "Training epoch 3: 0.02 0.01\n",
            "Epoch: 100.0%  lr: 0.010010  loss: 0.001547  eta: 0h2m  tot: 0h11m44s  (80.0%)%  lr: 0.019540  loss: 0.001341  eta: 0h5m  tot: 0h8m59s  (60.9%)5.4%  lr: 0.019419  loss: 0.001414  eta: 0h5m  tot: 0h9m1s  (61.1%)5.9%  lr: 0.019369  loss: 0.001435  eta: 0h5m  tot: 0h9m2s  (61.2%)%  lr: 0.019199  loss: 0.001440  eta: 0h5m  tot: 0h9m4s  (61.5%)9.6%  lr: 0.019069  loss: 0.001494  eta: 0h5m  tot: 0h9m7s  (61.9%)9.8%  lr: 0.019039  loss: 0.001489  eta: 0h5m  tot: 0h9m8s  (62.0%)%)12.4%  lr: 0.018739  loss: 0.001496  eta: 0h5m  tot: 0h9m12s  (62.5%)14.5%  lr: 0.018619  loss: 0.001489  eta: 0h5m  tot: 0h9m16s  (62.9%)14.6%  lr: 0.018609  loss: 0.001489  eta: 0h5m  tot: 0h9m16s  (62.9%)17.2%  lr: 0.018358  loss: 0.001498  eta: 0h5m  tot: 0h9m20s  (63.4%)19.3%  lr: 0.018048  loss: 0.001532  eta: 0h5m  tot: 0h9m24s  (63.9%)19.4%  lr: 0.018028  loss: 0.001538  eta: 0h5m  tot: 0h9m24s  (63.9%)20.4%  lr: 0.017928  loss: 0.001548  eta: 0h5m  tot: 0h9m26s  (64.1%)20.7%  lr: 0.017888  loss: 0.001551  eta: 0h5m  tot: 0h9m26s  (64.1%)22.1%  lr: 0.017708  loss: 0.001538  eta: 0h5m  tot: 0h9m29s  (64.4%)4m  tot: 0h9m37s  (65.3%)28.7%  lr: 0.016997  loss: 0.001499  eta: 0h4m  tot: 0h9m41s  (65.7%)28.8%  lr: 0.016987  loss: 0.001497  eta: 0h4m  tot: 0h9m41s  (65.8%)4m  tot: 0h9m45s  (66.2%)31.8%  lr: 0.016727  loss: 0.001487  eta: 0h4m  tot: 0h9m46s  (66.4%)32.2%  lr: 0.016677  loss: 0.001491  eta: 0h4m  tot: 0h9m47s  (66.4%)32.8%  lr: 0.016617  loss: 0.001495  eta: 0h4m  tot: 0h9m48s  (66.6%)  lr: 0.016036  loss: 0.001509  eta: 0h4m  tot: 0h9m58s  (67.8%)41.8%  lr: 0.015796  loss: 0.001524  eta: 0h4m  tot: 0h10m3s  (68.4%)%  lr: 0.015425  loss: 0.001511  eta: 0h4m  tot: 0h10m9s  (69.1%)46.3%  lr: 0.015395  loss: 0.001505  eta: 0h4m  tot: 0h10m11s  (69.3%)%  lr: 0.015315  loss: 0.001509  eta: 0h4m  tot: 0h10m11s  (69.4%)47.4%  lr: 0.015235  loss: 0.001507  eta: 0h4m  tot: 0h10m13s  (69.5%)47.4%  lr: 0.015235  loss: 0.001507  eta: 0h4m  tot: 0h10m13s  (69.5%)49.2%  lr: 0.014985  loss: 0.001505  eta: 0h4m  tot: 0h10m16s  (69.8%)50.1%  lr: 0.014785  loss: 0.001502  eta: 0h4m  tot: 0h10m17s  (70.0%)0.014765  loss: 0.001501  eta: 0h4m  tot: 0h10m17s  (70.0%)50.6%  lr: 0.014705  loss: 0.001498  eta: 0h4m  tot: 0h10m18s  (70.1%)54.6%  lr: 0.014274  loss: 0.001512  eta: 0h4m  tot: 0h10m25s  (70.9%)56.0%  lr: 0.014174  loss: 0.001521  eta: 0h4m  tot: 0h10m27s  (71.2%)56.4%  lr: 0.014154  loss: 0.001519  eta: 0h4m  tot: 0h10m28s  (71.3%)57.6%  lr: 0.014014  loss: 0.001529  eta: 0h4m  tot: 0h10m30s  (71.5%)4m  tot: 0h10m31s  (71.7%)59.0%  lr: 0.013934  loss: 0.001530  eta: 0h4m  tot: 0h10m32s  (71.8%)59.6%  lr: 0.013874  loss: 0.001531  eta: 0h4m  tot: 0h10m33s  (71.9%)%  lr: 0.013654  loss: 0.001522  eta: 0h3m  tot: 0h10m38s  (72.4%)62.4%  lr: 0.013594  loss: 0.001524  eta: 0h3m  tot: 0h10m38s  (72.5%)62.8%  lr: 0.013524  loss: 0.001522  eta: 0h3m  tot: 0h10m39s  (72.6%)63.3%  lr: 0.013494  loss: 0.001523  eta: 0h3m  tot: 0h10m40s  (72.7%)66.7%  lr: 0.013223  loss: 0.001537  eta: 0h3m  tot: 0h10m46s  (73.3%)m  tot: 0h10m47s  (73.4%)0.013143  loss: 0.001546  eta: 0h3m  tot: 0h10m49s  (73.6%)69.9%  lr: 0.012943  loss: 0.001550  eta: 0h3m  tot: 0h10m52s  (74.0%)0.012643  loss: 0.001550  eta: 0h3m  tot: 0h10m59s  (74.7%)  tot: 0h11m0s  (74.7%)3m  tot: 0h11m1s  (74.9%)%  lr: 0.012453  loss: 0.001553  eta: 0h3m  tot: 0h11m2s  (75.0%)%  lr: 0.012262  loss: 0.001556  eta: 0h3m  tot: 0h11m4s  (75.3%)77.1%  lr: 0.012192  loss: 0.001560  eta: 0h3m  tot: 0h11m6s  (75.4%)77.7%  lr: 0.012152  loss: 0.001556  eta: 0h3m  tot: 0h11m6s  (75.5%)78.8%  lr: 0.012032  loss: 0.001557  eta: 0h3m  tot: 0h11m8s  (75.8%)79.9%  lr: 0.011932  loss: 0.001561  eta: 0h3m  tot: 0h11m10s  (76.0%)82.4%  lr: 0.011652  loss: 0.001561  eta: 0h3m  tot: 0h11m14s  (76.5%)82.8%  lr: 0.011592  loss: 0.001556  eta: 0h3m  tot: 0h11m15s  (76.6%)83.6%  lr: 0.011512  loss: 0.001556  eta: 0h3m  tot: 0h11m16s  (76.7%)85.2%  lr: 0.011331  loss: 0.001557  eta: 0h3m  tot: 0h11m19s  (77.0%)3m  tot: 0h11m19s  (77.1%)3m  tot: 0h11m22s  (77.4%)88.0%  lr: 0.011041  loss: 0.001552  eta: 0h3m  tot: 0h11m24s  (77.6%)88.4%  lr: 0.010941  loss: 0.001551  eta: 0h3m  tot: 0h11m25s  (77.7%)88.6%  lr: 0.010921  loss: 0.001553  eta: 0h3m  tot: 0h11m25s  (77.7%)89.1%  lr: 0.010871  loss: 0.001551  eta: 0h3m  tot: 0h11m26s  (77.8%)%  lr: 0.010711  loss: 0.001550  eta: 0h3m  tot: 0h11m30s  (78.3%)91.7%  lr: 0.010681  loss: 0.001549  eta: 0h3m  tot: 0h11m30s  (78.3%)91.9%  lr: 0.010661  loss: 0.001550  eta: 0h3m  tot: 0h11m31s  (78.4%)92.5%  lr: 0.010611  loss: 0.001548  eta: 0h3m  tot: 0h11m32s  (78.5%)94.0%  lr: 0.010461  loss: 0.001544  eta: 0h3m  tot: 0h11m35s  (78.8%)99.2%  lr: 0.010040  loss: 0.001546  eta: 0h2m  tot: 0h11m44s  (79.8%)  eta: 0h2m  tot: 0h11m44s  (79.9%)\n",
            " ---+++                Epoch    3 Train error : 0.00154964 +++--- ���\n",
            "Training epoch 4: 0.01 0.01\n"
          ],
          "name": "stdout"
        },
        {
          "output_type": "stream",
          "text": [
            "Epoch: 100.0%  lr: 0.000000  loss: 0.001348  eta: <1min   tot: 0h14m36s  (100.0%) lr: 0.009620  loss: 0.001479  eta: 0h2m  tot: 0h11m51s  (80.8%)7.7%  lr: 0.009159  loss: 0.001365  eta: 0h2m  tot: 0h11m58s  (81.5%)10.4%  lr: 0.008839  loss: 0.001336  eta: 0h2m  tot: 0h12m3s  (82.1%)11.5%  lr: 0.008779  loss: 0.001335  eta: 0h2m  tot: 0h12m4s  (82.3%)14.8%  lr: 0.008468  loss: 0.001334  eta: 0h2m  tot: 0h12m10s  (83.0%)15.2%  lr: 0.008368  loss: 0.001321  eta: 0h2m  tot: 0h12m11s  (83.0%)2m  tot: 0h12m11s  (83.1%)17.2%  lr: 0.008238  loss: 0.001327  eta: 0h2m  tot: 0h12m14s  (83.4%)17.8%  lr: 0.008178  loss: 0.001320  eta: 0h2m  tot: 0h12m15s  (83.6%)19.1%  lr: 0.008048  loss: 0.001335  eta: 0h2m  tot: 0h12m18s  (83.8%)20.3%  lr: 0.007948  loss: 0.001339  eta: 0h2m  tot: 0h12m20s  (84.1%)23.9%  lr: 0.007648  loss: 0.001380  eta: 0h2m  tot: 0h12m27s  (84.8%)24.0%  lr: 0.007618  loss: 0.001375  eta: 0h2m  tot: 0h12m27s  (84.8%)24.2%  lr: 0.007608  loss: 0.001377  eta: 0h2m  tot: 0h12m28s  (84.8%)24.8%  lr: 0.007568  loss: 0.001360  eta: 0h2m  tot: 0h12m28s  (85.0%)2m  tot: 0h12m31s  (85.3%)27.4%  lr: 0.007297  loss: 0.001360  eta: 0h2m  tot: 0h12m33s  (85.5%)29.5%  lr: 0.007067  loss: 0.001356  eta: 0h2m  tot: 0h12m36s  (85.9%)0.006947  loss: 0.001335  eta: 0h2m  tot: 0h12m40s  (86.3%)32.5%  lr: 0.006847  loss: 0.001333  eta: 0h1m  tot: 0h12m41s  (86.5%)34.4%  lr: 0.006577  loss: 0.001330  eta: 0h1m  tot: 0h12m45s  (86.9%)38.3%  lr: 0.006136  loss: 0.001332  eta: 0h1m  tot: 0h12m52s  (87.7%)40.0%  lr: 0.005986  loss: 0.001341  eta: 0h1m  tot: 0h12m54s  (88.0%)40.2%  lr: 0.005966  loss: 0.001339  eta: 0h1m  tot: 0h12m55s  (88.0%)40.7%  lr: 0.005946  loss: 0.001337  eta: 0h1m  tot: 0h12m56s  (88.1%)41.1%  lr: 0.005926  loss: 0.001344  eta: 0h1m  tot: 0h12m57s  (88.2%)42.1%  lr: 0.005746  loss: 0.001341  eta: 0h1m  tot: 0h12m58s  (88.4%)42.3%  lr: 0.005696  loss: 0.001341  eta: 0h1m  tot: 0h12m59s  (88.5%)%  lr: 0.005375  loss: 0.001329  eta: 0h1m  tot: 0h13m5s  (89.1%)46.2%  lr: 0.005325  loss: 0.001322  eta: 0h1m  tot: 0h13m6s  (89.2%)47.3%  lr: 0.005195  loss: 0.001322  eta: 0h1m  tot: 0h13m8s  (89.5%)48.4%  lr: 0.005005  loss: 0.001317  eta: 0h1m  tot: 0h13m10s  (89.7%)53.7%  lr: 0.004555  loss: 0.001323  eta: 0h1m  tot: 0h13m19s  (90.7%)%  lr: 0.004475  loss: 0.001322  eta: 0h1m  tot: 0h13m21s  (91.0%)55.8%  lr: 0.004364  loss: 0.001323  eta: 0h1m  tot: 0h13m23s  (91.2%)1m  tot: 0h13m23s  (91.2%)56.3%  lr: 0.004334  loss: 0.001324  eta: 0h1m  tot: 0h13m23s  (91.3%)56.4%  lr: 0.004314  loss: 0.001323  eta: 0h1m  tot: 0h13m24s  (91.3%)58.0%  lr: 0.004214  loss: 0.001321  eta: 0h1m  tot: 0h13m27s  (91.6%)58.7%  lr: 0.004094  loss: 0.001318  eta: 0h1m  tot: 0h13m28s  (91.7%)63.5%  lr: 0.003614  loss: 0.001332  eta: 0h1m  tot: 0h13m36s  (92.7%)63.6%  lr: 0.003604  loss: 0.001335  eta: 0h1m  tot: 0h13m36s  (92.7%)64.5%  lr: 0.003444  loss: 0.001337  eta: 0h1m  tot: 0h13m38s  (92.9%)64.7%  lr: 0.003403  loss: 0.001336  eta: 0h1m  tot: 0h13m38s  (92.9%)65.5%  lr: 0.003263  loss: 0.001334  eta: 0h1m  tot: 0h13m40s  (93.1%)%  lr: 0.002833  loss: 0.001342  eta: <1min   tot: 0h13m46s  (93.8%)69.8%  lr: 0.002743  loss: 0.001343  eta: <1min   tot: 0h13m47s  (94.0%)71.1%  lr: 0.002623  loss: 0.001339  eta: <1min   tot: 0h13m50s  (94.2%)71.6%  lr: 0.002563  loss: 0.001338  eta: <1min   tot: 0h13m51s  (94.3%)72.2%  lr: 0.002493  loss: 0.001335  eta: <1min   tot: 0h13m52s  (94.4%)76.4%  lr: 0.002092  loss: 0.001337  eta: <1min   tot: 0h13m59s  (95.3%)0.001339  eta: <1min   tot: 0h14m2s  (95.6%)79.4%  lr: 0.001802  loss: 0.001338  eta: <1min   tot: 0h14m4s  (95.9%)80.4%  lr: 0.001762  loss: 0.001343  eta: <1min   tot: 0h14m6s  (96.1%)81.3%  lr: 0.001652  loss: 0.001339  eta: <1min   tot: 0h14m7s  (96.3%)83.2%  lr: 0.001502  loss: 0.001341  eta: <1min   tot: 0h14m11s  (96.6%)0.001340  eta: <1min   tot: 0h14m15s  (97.2%)85.9%  lr: 0.001191  loss: 0.001339  eta: <1min   tot: 0h14m15s  (97.2%)0.001337  eta: <1min   tot: 0h14m18s  (97.5%)88.1%  lr: 0.000941  loss: 0.001337  eta: <1min   tot: 0h14m19s  (97.6%)89.8%  lr: 0.000711  loss: 0.001335  eta: <1min   tot: 0h14m21s  (98.0%)90.8%  lr: 0.000581  loss: 0.001334  eta: <1min   tot: 0h14m23s  (98.2%)%  lr: 0.000410  loss: 0.001339  eta: <1min   tot: 0h14m27s  (98.6%)95.1%  lr: 0.000230  loss: 0.001338  eta: <1min   tot: 0h14m31s  (99.0%)95.2%  lr: 0.000230  loss: 0.001338  eta: <1min   tot: 0h14m31s  (99.0%)97.0%  lr: 0.000100  loss: 0.001343  eta: <1min   tot: 0h14m34s  (99.4%)\n",
            " ---+++                Epoch    4 Train error : 0.00137713 +++--- ���\n",
            "Saving model to file : starspace_embedding\n",
            "Saving model in tsv format : starspace_embedding.tsv\n"
          ],
          "name": "stdout"
        }
      ]
    },
    {
      "cell_type": "markdown",
      "metadata": {
        "collapsed": true,
        "id": "sLJK6Wv43r7l",
        "colab_type": "text"
      },
      "source": [
        "And now we can compare the new embeddings with the previous ones. You can find trained word vectors in the file *[model_file_name].tsv*. Upload the embeddings from StarSpace into a dict. "
      ]
    },
    {
      "cell_type": "code",
      "metadata": {
        "id": "_58Letbg3r7m",
        "colab_type": "code",
        "colab": {}
      },
      "source": [
        "starspace_embeddings = dict()\n",
        "for line in open('starspace_embedding.tsv', encoding='utf-8'):\n",
        "    row = line.strip().split('\\t')\n",
        "    starspace_embeddings[row[0]] = np.array(row[1:], dtype=np.float32)\n",
        "\n",
        "#starspace_embeddings = ######### YOUR CODE HERE #############"
      ],
      "execution_count": 0,
      "outputs": []
    },
    {
      "cell_type": "code",
      "metadata": {
        "id": "s9Gk2-1A3r7n",
        "colab_type": "code",
        "colab": {}
      },
      "source": [
        "ss_prepared_ranking = []\n",
        "for line in prepared_validation:\n",
        "    q, *ex = line\n",
        "    ranks = rank_candidates(q, ex, starspace_embeddings, 100)\n",
        "    ss_prepared_ranking.append([r[0] for r in ranks].index(0) + 1)"
      ],
      "execution_count": 0,
      "outputs": []
    },
    {
      "cell_type": "code",
      "metadata": {
        "id": "eA6Rd0yx3r7p",
        "colab_type": "code",
        "colab": {},
        "outputId": "840706a1-9112-4403-926e-80a63deb4f0c"
      },
      "source": [
        "for k in [1, 5, 10, 100, 500, 1000]:\n",
        "    print(\"DCG@%4d: %.3f | Hits@%4d: %.3f\" % (k, dcg_score(ss_prepared_ranking, k), \n",
        "                                               k, hits_count(ss_prepared_ranking, k)))"
      ],
      "execution_count": 0,
      "outputs": [
        {
          "output_type": "stream",
          "text": [
            "DCG@   1: 0.520 | Hits@   1: 0.520\n",
            "DCG@   5: 0.615 | Hits@   5: 0.698\n",
            "DCG@  10: 0.634 | Hits@  10: 0.755\n",
            "DCG@ 100: 0.665 | Hits@ 100: 0.905\n",
            "DCG@ 500: 0.675 | Hits@ 500: 0.981\n",
            "DCG@1000: 0.677 | Hits@1000: 1.000\n"
          ],
          "name": "stdout"
        }
      ]
    },
    {
      "cell_type": "markdown",
      "metadata": {
        "id": "HQXs0fLo3r7r",
        "colab_type": "text"
      },
      "source": [
        "Due to training for the particular task with the supervised data, you should expect to obtain a higher quality than for the previous approach. In additiion, despite the fact that StarSpace's trained vectors have a smaller dimension than word2vec's, it provides better results in this task."
      ]
    },
    {
      "cell_type": "markdown",
      "metadata": {
        "id": "fY8EGo8E3r7r",
        "colab_type": "text"
      },
      "source": [
        "**Task 5 (StarSpaceRanks).** For each question from prepared *test.tsv* submit the ranks of the candidates for trained representation."
      ]
    },
    {
      "cell_type": "code",
      "metadata": {
        "id": "wOtnylZZ3r7s",
        "colab_type": "code",
        "colab": {},
        "outputId": "89647b1c-8078-4945-80a7-afdd77a41e8b"
      },
      "source": [
        "starspace_ranks_results = []\n",
        "prepared_test_data = 'data/prepared_test.tsv' ######### YOUR CODE HERE #############\n",
        "for line in open(prepared_test_data):\n",
        "    q, *ex = line.strip().split('\\t')\n",
        "    ranks = rank_candidates(q, ex, starspace_embeddings, 100)\n",
        "    ranked_candidates = [r[0] for r in ranks]\n",
        "    starspace_ranks_results.append([ranked_candidates.index(i) + 1 for i in range(len(ranked_candidates))])\n",
        "    \n",
        "grader.submit_tag('StarSpaceRanks', matrix_to_string(starspace_ranks_results))"
      ],
      "execution_count": 0,
      "outputs": [
        {
          "output_type": "stream",
          "text": [
            "Current answer for task StarSpaceRanks is: 82\t49\t88\t27\t4\t53\t78\t96\t72\t66\t5\t10\t20\t32\t75\t51\t9\t12\t55\t85\t87\t42\t7\t89\t100\t74\t91\t97\t60\t1\t58\t31\t86\t50\t77...\n"
          ],
          "name": "stdout"
        }
      ]
    },
    {
      "cell_type": "markdown",
      "metadata": {
        "id": "bMkeFnsN3r7u",
        "colab_type": "text"
      },
      "source": [
        "### Authorization & Submission\n",
        "To submit assignment parts to Cousera platform, please, enter your e-mail and token into variables below. You can generate token on this programming assignment page. <b>Note:</b> Token expires 30 minutes after generation."
      ]
    },
    {
      "cell_type": "code",
      "metadata": {
        "id": "OgS1DMbZ3r7v",
        "colab_type": "code",
        "colab": {},
        "outputId": "d8fca0bb-a23a-4664-ed5e-1e33dfbc29a9"
      },
      "source": [
        "grader.status()"
      ],
      "execution_count": 0,
      "outputs": [
        {
          "output_type": "stream",
          "text": [
            "You want to submit these parts:\n",
            "Task Question2Vec: 0.019293891059\n",
            "-0.0287272135417\n",
            "0.0460561116536\n",
            "0.0852593315972\n",
            "0.0243055555556\n",
            "-0.0729031032986\n",
            "0.0...\n",
            "Task HitsCount: 1.0\n",
            "0.5\n",
            "1.0\n",
            "0.5\n",
            "1.0\n",
            "0.333333333333\n",
            "0.666666666667\n",
            "1.0\n",
            "0.1\n",
            "0.2\n",
            "0.3\n",
            "0.4\n",
            "0.5\n",
            "0.6\n",
            "0.7\n",
            "0.8\n",
            "0.9\n",
            "1.0\n",
            "0.1\n",
            "0....\n",
            "Task DCGScore: 1.0\n",
            "0.5\n",
            "0.815464876786\n",
            "0.5\n",
            "0.815464876786\n",
            "0.333333333333\n",
            "0.54364325119\n",
            "0.710309917857\n",
            "0.1\n",
            "0.16309297...\n",
            "Task W2VTokenizedRanks: 95\t94\t7\t9\t64\t36\t31\t93\t23\t100\t99\t20\t60\t6\t97\t48\t70\t37\t41\t96\t29\t56\t2\t65\t68\t44\t27\t25\t57\t62\t11\t87\t50\t66\t7...\n",
            "Task StarSpaceRanks: 82\t49\t88\t27\t4\t53\t78\t96\t72\t66\t5\t10\t20\t32\t75\t51\t9\t12\t55\t85\t87\t42\t7\t89\t100\t74\t91\t97\t60\t1\t58\t31\t86\t50\t77...\n"
          ],
          "name": "stdout"
        }
      ]
    },
    {
      "cell_type": "markdown",
      "metadata": {
        "id": "SFYEDqks3r7w",
        "colab_type": "text"
      },
      "source": [
        "If you want to submit these answers, run cell below"
      ]
    },
    {
      "cell_type": "code",
      "metadata": {
        "id": "Wj-SfmW93r7x",
        "colab_type": "code",
        "colab": {},
        "outputId": "f553f4bd-c31f-4aeb-9717-c0bb3069e06b"
      },
      "source": [
        "grader.submit(STUDENT_EMAIL, STUDENT_TOKEN)"
      ],
      "execution_count": 0,
      "outputs": [
        {
          "output_type": "stream",
          "text": [
            "Submitted to Coursera platform. See results on assignment page!\n"
          ],
          "name": "stdout"
        }
      ]
    }
  ]
}